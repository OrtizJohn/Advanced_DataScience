{
 "cells": [
  {
   "cell_type": "markdown",
   "metadata": {},
   "source": [
    "# CSCI4022 Homework 4; Item Sets\n",
    "\n",
    "## Due Friday, March 12 at 11:59 pm to Canvas\n",
    "\n",
    "#### Submit this file as a .ipynb with *all cells compiled and run* to the associated dropbox.\n",
    "\n",
    "***\n",
    "\n",
    "Your solutions to computational questions should include any specified Python code and results as well as written commentary on your conclusions.  Remember that you are encouraged to discuss the problems with your classmates, but **you must write all code and solutions on your own**.\n",
    "\n",
    "**NOTES**: \n",
    "\n",
    "- Any relevant data sets should be available on Canvas. To make life easier on the graders if they need to run your code, do not change the relative path names here. Instead, move the files around on your computer.\n",
    "- If you're not familiar with typesetting math directly into Markdown then by all means, do your work on paper first and then typeset it later.  Here is a [reference guide](https://math.meta.stackexchange.com/questions/5020/mathjax-basic-tutorial-and-quick-reference) linked on Canvas on writing math in Markdown. **All** of your written commentary, justifications and mathematical work should be in Markdown.  I also recommend the [wikibook](https://en.wikibooks.org/wiki/LaTeX) for LaTex.\n",
    "- Because you can technically evaluate notebook cells is a non-linear order, it's a good idea to do **Kernel $\\rightarrow$ Restart & Run All** as a check before submitting your solutions.  That way if we need to run your code you will know that it will work as expected. \n",
    "- It is **bad form** to make your reader interpret numerical output from your code.  If a question asks you to compute some value from the data you should show your code output **AND** write a summary of the results in Markdown directly below your code. \n",
    "- 45 points of this assignment are in problems.  The remaining 5 are for neatness, style, and overall exposition of both code and text.\n",
    "- This probably goes without saying, but... For any question that asks you to calculate something, you **must show all work and justify your answers to receive credit**. Sparse or nonexistent work will receive sparse or nonexistent credit. \n",
    "- There is *not a prescribed API* for these problems, except the **form of your output for #3**.  You may answer coding questions with whatever syntax or object typing you deem fit.  Your evaluation will primarily live in the clarity of how well you present your final results, so don't skip over any interpretations!  Your code should still be commented and readable to ensure you followed the given course algorithm.\n",
    "\n",
    "---"
   ]
  },
  {
   "cell_type": "code",
   "execution_count": 1,
   "metadata": {},
   "outputs": [],
   "source": [
    "import matplotlib.pyplot as plt\n",
    "import numpy as np\n",
    "import pandas as pd\n",
    "import statsmodels.api as sm"
   ]
  },
  {
   "cell_type": "markdown",
   "metadata": {},
   "source": [
    "\n",
    "***\n",
    "<a/ id='p1'></a>\n",
    "[Back to top](#top)\n",
    "# Problem 1 (Theory: A Priori Properties; 10 pts) \n",
    "In using triangular arrays to store item basket data, we defined the function $a[k] :=$ count for the pair ${i, j}$, where $1 \\leq i < j \\leq n,$ with\n",
    "\n",
    "$k=(i-1)\\left(n-\\frac{i}{2}\\right) +j -i$\n",
    "\n",
    "\n",
    "This formula involves dividing an arbitrary integer i by 2. Yet $k$ is an index, so we need to have k be an integer. Prove that k will, in fact, be an integer.\n"
   ]
  },
  {
   "cell_type": "markdown",
   "metadata": {},
   "source": [
    "So the first thing to note is i and j are integers so addition or subtraction of either wont affect k being an integer. Now lets focus on just the first half of the formula $f(i)=(i-1)\\left(n-\\frac{i}{2}\\right)$:\n",
    "Lets go through each possible case for k...\n",
    "- Case 1: i=1 $f(1) = (1-1)(n-\\frac{1}{2}) = 0$\n",
    "- Case 2: i=2 $f(2) = (2-1)(n-\\frac{2}{2}) = n - 1$, this happens to be the exact amount of elements in the first row of our upper triangular matrix\n",
    "- Case 3: i=3 $f(3) = (3-1)(n-\\frac{3}{2}) = 2n - 3 = (n-1)+(n-2)$, this corresponds to now the first two rows of upper triangular matrix \n",
    "- Case 4: i=4 $f(4) = (4-1)(n-\\frac{4}{2}) = 3n - 6= (n-1)+(n-2)+(n-3)$\n",
    "- Case 4: i=k $f(k) = (k-1)(n-\\frac{k}{2}) = \\sum_{k=1}^{n}(n-k)$\n",
    "\n",
    "As you can now see the developing pattern, no matter the input i as long as it is in the current constraints no value of i would make f(i) not produce an integer. f(i) is designed to record all the elements before the current k, hence k will be an integer. \n"
   ]
  },
  {
   "cell_type": "markdown",
   "metadata": {},
   "source": [
    "***\n",
    "<a/ id='p2'></a>\n",
    "[Back to top](#top)\n",
    "# Problem 2 (Theory: Item Baskets; 10 pts)\n",
    "\n",
    "Suppose we have 20 distinct items numbered 1 to 20. Each basket is constructed by including the item numbered `k` with probability $1/k$, independent of other items.  As a result, all baskets will include item 1, half will include item 2, and so forth.  What are all of the *itemsets* expected to be frequent at a support threshold of 3%?\n",
    "\n",
    "Note: You may use simulation if you prefer, but I suspect you may find the pen-and-paper answer is easier."
   ]
  },
  {
   "cell_type": "markdown",
   "metadata": {},
   "source": [
    "So if we have 20 baskets are support threshold in terms of baskets is 20 * .03 = .6. \\\n",
    "So if we had n baskets are support threshold in terms of baskets is n * .03 \\\n",
    "I thought simulation would be more fun..."
   ]
  },
  {
   "cell_type": "code",
   "execution_count": 2,
   "metadata": {},
   "outputs": [
    {
     "name": "stdout",
     "output_type": "stream",
     "text": [
      "With 10000 as the number of baskets simulated:\n",
      "Our support threshold at 3% would correspond to 300 baskets\n",
      "singleton itemset count:\n",
      "[10000.  5095.  3377.  2483.  1960.  1683.  1426.  1279.  1047.   932.\n",
      "   955.   839.   813.   744.   671.   609.   562.   575.   526.   513.]\n",
      "All singleton itemsets would be considered frequent\n",
      "________________________________________________________\n",
      "More interesting would be itemsets as item pairs...\n",
      "triangular array of items pairs as 1-d array\n",
      "[5095.0, 3377.0, 2483.0, 1960.0, 1683.0, 1426.0, 1279.0, 1047.0, 932.0, 955.0, 839.0, 813.0, 744.0, 671.0, 609.0, 562.0, 575.0, 526.0, 513.0, 1737.0, 1228.0, 953.0, 841.0, 736.0, 629.0, 523.0, 474.0, 485.0, 420.0, 426.0, 365.0, 359.0, 300.0, 279.0, 271.0, 277.0, 263.0, 822.0, 673.0, 564.0, 472.0, 468.0, 347.0, 315.0, 314.0, 261.0, 295.0, 258.0, 215.0, 197.0, 195.0, 191.0, 181.0, 178.0, 501.0, 411.0, 352.0, 354.0, 271.0, 239.0, 230.0, 216.0, 216.0, 180.0, 178.0, 164.0, 127.0, 169.0, 121.0, 135.0, 333.0, 277.0, 251.0, 223.0, 181.0, 196.0, 149.0, 151.0, 148.0, 117.0, 127.0, 105.0, 110.0, 85.0, 101.0, 239.0, 224.0, 169.0, 148.0, 161.0, 136.0, 128.0, 129.0, 124.0, 108.0, 97.0, 106.0, 87.0, 90.0, 154.0, 147.0, 139.0, 152.0, 122.0, 108.0, 116.0, 93.0, 93.0, 71.0, 94.0, 73.0, 74.0, 130.0, 118.0, 117.0, 118.0, 105.0, 100.0, 92.0, 71.0, 72.0, 56.0, 74.0, 58.0, 100.0, 102.0, 74.0, 81.0, 79.0, 72.0, 59.0, 53.0, 60.0, 57.0, 53.0, 88.0, 85.0, 71.0, 68.0, 66.0, 51.0, 54.0, 49.0, 36.0, 52.0, 71.0, 91.0, 84.0, 65.0, 65.0, 64.0, 53.0, 47.0, 49.0, 75.0, 58.0, 61.0, 47.0, 40.0, 47.0, 41.0, 45.0, 53.0, 54.0, 56.0, 42.0, 56.0, 48.0, 40.0, 50.0, 43.0, 52.0, 51.0, 40.0, 36.0, 42.0, 34.0, 31.0, 37.0, 34.0, 46.0, 36.0, 38.0, 31.0, 28.0, 31.0, 22.0, 25.0, 35.0, 32.0]\n",
      "Frequent Itempairs as Arrays of Triples\n",
      "[(0, 1, 5095.0), (0, 2, 3377.0), (0, 3, 2483.0), (0, 4, 1960.0), (0, 5, 1683.0), (0, 6, 1426.0), (0, 7, 1279.0), (0, 8, 1047.0), (0, 9, 932.0), (0, 10, 955.0), (0, 11, 839.0), (0, 12, 813.0), (0, 13, 744.0), (0, 14, 671.0), (0, 15, 609.0), (0, 16, 562.0), (0, 17, 575.0), (0, 18, 526.0), (0, 19, 513.0), (1, 2, 1737.0), (1, 3, 1228.0), (1, 4, 953.0), (1, 5, 841.0), (1, 6, 736.0), (1, 7, 629.0), (1, 8, 523.0), (1, 9, 474.0), (1, 10, 485.0), (1, 11, 420.0), (1, 12, 426.0), (1, 13, 365.0), (1, 14, 359.0), (1, 15, 300.0), (2, 3, 822.0), (2, 4, 673.0), (2, 5, 564.0), (2, 6, 472.0), (2, 7, 468.0), (2, 8, 347.0), (2, 9, 315.0), (2, 10, 314.0), (3, 4, 501.0), (3, 5, 411.0), (3, 6, 352.0), (3, 7, 354.0), (4, 5, 333.0)]\n",
      "Expected Itemsets at threshold of 3%:\n",
      "[(0, 1), (0, 2), (0, 3), (0, 4), (0, 5), (0, 6), (0, 7), (0, 8), (0, 9), (0, 10), (0, 11), (0, 12), (0, 13), (0, 14), (0, 15), (0, 16), (0, 17), (0, 18), (0, 19), (1, 2), (1, 3), (1, 4), (1, 5), (1, 6), (1, 7), (1, 8), (1, 9), (1, 10), (1, 11), (1, 12), (1, 13), (1, 14), (1, 15), (2, 3), (2, 4), (2, 5), (2, 6), (2, 7), (2, 8), (2, 9), (2, 10), (3, 4), (3, 5), (3, 6), (3, 7), (4, 5)]\n"
     ]
    }
   ],
   "source": [
    "def getBasket():\n",
    "    itemHereStates= [0,1]\n",
    "    basket=[0]*20\n",
    "    #print(len(basket))\n",
    "    for i in range(1,21):\n",
    "        #print(1/i)\n",
    "        choice=np.random.choice([0,i],p=[1-1/i,1/i])\n",
    "\n",
    "        basket[i-1]=choice\n",
    "    #print(basket)\n",
    "    return basket\n",
    "def oneSim(n_baskets):\n",
    "    nBasketMatrix=[]\n",
    "    for i in range(n_baskets):\n",
    "        nBasketMatrix.append(getBasket())\n",
    "    return nBasketMatrix\n",
    "\n",
    "\n",
    "\n",
    "def makeTrip(Triang_Counts, s):\n",
    "    Candidates=[]\n",
    "    freqItemPairs = []\n",
    "    finalPairs=[]\n",
    "    size= len(Triang_Counts)\n",
    "    rows = 20\n",
    "    \n",
    "    #grabbed all frequent item pairs\n",
    "    for idx1 in range(rows):\n",
    "        for idx2 in range(idx1+1, rows):\n",
    "            k = int(idx1*(rows - (idx1+1)/2) + idx2 - idx1 - 1) #k represent index i,j \n",
    "            #print(k)\n",
    "            #print(s)\n",
    "            if(Triang_Counts[k] >= s):\n",
    "                freqItemPairs.append((idx1, idx2, Triang_Counts[k]))\n",
    "                finalPairs.append((idx1, idx2))\n",
    "    print(\"Frequent Itempairs as Arrays of Triples\")\n",
    "    print(freqItemPairs)\n",
    "    print(\"Expected Itemsets at threshold of 3%:\")\n",
    "    print(finalPairs)\n",
    "\n",
    "def finalSim(n):\n",
    "    matrix1 = oneSim(n)\n",
    "    #calculate f\n",
    "    #df = pd.DataFrame(data=matrix1)\n",
    "    #df1 = np.array(df)\n",
    "    frequencies=[0]*20\n",
    "    U = np.zeros((20, 20))\n",
    "    U_single= np.zeros(20)\n",
    "    for irow in range(20):\n",
    "        U_single[irow]=np.sum([set([irow+1]) <= set(matrix1[k]) for k in range(len(matrix1))])\n",
    "        for icol in range(irow+1, 20):\n",
    "            item1 = irow+1\n",
    "            item2 = icol+1\n",
    "            U[irow,icol] = np.sum([set([item1, item2]) <= set(matrix1[k]) for k in range(len(matrix1))])\n",
    "    #create triangular array as 1-d array\n",
    "    nt = int((20-1)*20/2)\n",
    "    a = [0]*nt\n",
    "    k = 0\n",
    "    for i in range(20):\n",
    "        for j in range(i+1, 20):\n",
    "            a[k] = U[i,j]\n",
    "            k += 1\n",
    "    print(\"With \"+str(n)+\" as the number of baskets simulated:\")\n",
    "    print(\"Our support threshold at 3% would correspond to \"+str(int(.03*n)) + \" baskets\")\n",
    "    print(\"singleton itemset count:\")\n",
    "    print(U_single)\n",
    "    print(\"All singleton itemsets would be considered frequent\")\n",
    "    print(\"________________________________________________________\")\n",
    "    print(\"More interesting would be itemsets as item pairs...\")\n",
    "    print(\"triangular array of items pairs as 1-d array\")\n",
    "    print(a)\n",
    "\n",
    "    makeTrip(a,.03*n)\n",
    "n=10000 #10000\n",
    "finalSim(n)"
   ]
  },
  {
   "cell_type": "markdown",
   "metadata": {},
   "source": [
    "***\n",
    "<a/ id='p3'></a>\n",
    "[Back to top](#top)\n",
    "# Problem 3 (Practice: Candidate Items; 25 pts)\n",
    "\n",
    "In the A-Priori algorithm, there is a step in which we create a candidate list of frequent itemsets of size $k+1$ as we prune the frequent itemsets of size $k$.  This this problem we will create two functions to do that formally.\n",
    "\n",
    "#### Part A:\n",
    "\n",
    "There are two types of data objects in which we might be holding the frequency counts of itemsets.  If $k=2$, they may be stored in a triangular array.  Create a function `Cand_Trips` that takes a triangular array and returns all valid candidate triples as a list.  Recall that the itemset $\\{i,j,k\\}$ is only a candidate if all 3 of the itemsets in $\\{\\{i,j\\}, \\{i,k\\}, \\{k,j\\}\\}$ are frequent.\n",
    "\n",
    "Some usage notes:\n",
    "\n",
    "- The first input argument is `Triang_Counts`,  a zero-indexed triangular (numeric) array, by same convention as introduced in class.\n",
    "- The second input argument is the positive integer support threshold `s`.\n",
    "- The underlying itemset is 0-indexed, so e.g. `[0,1,3]` is a valid triple.\n",
    "- The return array `Candidates` should be a list of 3-index lists of the item numbers of the triples.  So a final answer for some input might be:\n",
    "\n",
    "`Cand_Trips` =\n",
    "    `[[0,3,4], [1,2,7]]`\n",
    "\n",
    "- An implementation note: there are two fundamentally different ways to think about implementing this function.  Option 1 involves thinking about the elements of `Tri_Counts` in terms of their locations on the corresponding *triangular matrix*: scan row $i$ for a pair of frequent pairs $\\{\\{i,j\\}, \\{i,k\\}\\}$ and then check if $\\{j,k\\}$ is in fact frequent.  Option 2 scans all of `Tri_Counts` for frequent item pairs (the \"pruning\" step) and saves those in some object with their indices, then scans *that* object for candidates.  Both are valid for this problem, but option 2 may generalize to higher $k$ better..."
   ]
  },
  {
   "cell_type": "code",
   "execution_count": 3,
   "metadata": {},
   "outputs": [],
   "source": [
    "def Cand_Trips(Triang_Counts, s):\n",
    "    #do the thing\n",
    "    Candidates=[]\n",
    "    freqItemPairs = []\n",
    "    size= len(Triang_Counts)\n",
    "    rows = int(len(Triang_Counts)/2)\n",
    "    \n",
    "    #grabbed all frequent item pairs\n",
    "    for idx1 in range(rows):\n",
    "        for idx2 in range(idx1+1, rows):\n",
    "            k = int(idx1*(rows - (idx1+1)/2) + idx2 - idx1 - 1) #k represent index i,j \n",
    "            #print(k)\n",
    "            freqItemPairs.append((idx1, idx2, Triang_Counts[k]))\n",
    "    #print(freqItemPairs)\n",
    "    Candidates = possibleCandidates(freqItemPairs,s) #helper function to find valid canditates\n",
    "    \n",
    "    return Candidates\n",
    "def possibleCandidates(freqItemPairs,s): #return a list [i,j,k]\n",
    "    L1 = []#pairs that beat threshold\n",
    "    C1 =[]#final trips list\n",
    "    for freqItemPair in freqItemPairs:\n",
    "        if(freqItemPair[2]>= s):\n",
    "            i = freqItemPair[0]\n",
    "            j = freqItemPair[1]\n",
    "            L1.append({i,j})\n",
    "    \n",
    "    for i in range(len(L1)):\n",
    "        pair = L1[i]\n",
    "        for j in range(len(L1)):\n",
    "            if(i != j) and (pair.intersection(L1[j])):\n",
    "                trip = list(pair.union(L1[j]))\n",
    "                otherPair= pair.union(L1[j])\n",
    "                #print(otherPair)\n",
    "                otherPair.remove(list(pair.intersection(L1[j]))[0])\n",
    "                #print(otherPair)\n",
    "                #print(list(pair.intersection(L1[j]))[0])\n",
    "                if(trip not in C1) and (otherPair in L1) :\n",
    "                    \n",
    "                    #print(str(pair) + \" vs \"+str(L1[j])+\" : \" + str(pair.intersection(L1[j])) )\n",
    "                    #print(trip)\n",
    "                    C1.append(trip)\n",
    "            \n",
    "    #print(L1)            \n",
    "    #print(C1)\n",
    "    return C1"
   ]
  },
  {
   "cell_type": "markdown",
   "metadata": {},
   "source": [
    "#### Part B:\n",
    "\n",
    "A quick test case.  Below is  a matrix $M$ and code including its corresponding the triangular array.  \n",
    "\n",
    "$C=\\begin{bmatrix}\n",
    "\\cdot &10&7&3&2\\\\\n",
    "\\cdot &\\cdot&6&4&3\\\\\n",
    "\\cdot &\\cdot&\\cdot&3&6\\\\\n",
    "\\cdot &\\cdot&\\cdot&\\cdot&0\\\\\n",
    "\\cdot &\\cdot&\\cdot&\\cdot&\\cdot\\\\\n",
    "\\end{bmatrix}$\n",
    " \n",
    "Input the given list into your function to verify that it returns the correct valid triples at $s=1$ and $s=6$."
   ]
  },
  {
   "cell_type": "code",
   "execution_count": 4,
   "metadata": {},
   "outputs": [
    {
     "data": {
      "text/plain": [
       "[[0, 1, 2], [0, 1, 3], [0, 1, 4], [0, 2, 3], [0, 2, 4], [1, 2, 3], [1, 2, 4]]"
      ]
     },
     "execution_count": 4,
     "metadata": {},
     "output_type": "execute_result"
    }
   ],
   "source": [
    "Triang_Counts=[10,7,3,2,6,4,3,3,2,0]\n",
    "\n",
    "#Check that...\n",
    "#Cand_Trips(Triang_Counts, 1) returns all the possible triples except those that contain BOTH items 3 and 4.\n",
    "#Cand_Trips(Triang_Counts, 6) returns only the triple [[0,1,2]]\n",
    "Cand_Trips(Triang_Counts, 1)"
   ]
  },
  {
   "cell_type": "code",
   "execution_count": 5,
   "metadata": {},
   "outputs": [
    {
     "data": {
      "text/plain": [
       "[[0, 1, 2]]"
      ]
     },
     "execution_count": 5,
     "metadata": {},
     "output_type": "execute_result"
    }
   ],
   "source": [
    "Cand_Trips(Triang_Counts, 6)"
   ]
  },
  {
   "cell_type": "markdown",
   "metadata": {},
   "source": [
    "#### Part C:\n",
    "\n",
    "Suppose instead that our $k=2$ item counts were stored in a list of the form e.g.\n",
    "`Pairs_Counts` =\n",
    "    `[[0,1,12], [0,2,0], [0,3,11], ..., [7,8,103]]`\n",
    "    \n",
    "Where each element is a triple storing the two item indices and their count, $[i,j,c_{ij}]$. \n",
    "\n",
    "Create a function `Cand_Trips_List` that takes in a list of pairs counts and returns all valid candidate triples as a list.  \n",
    "\n",
    "Some usage notes:\n",
    "\n",
    "- The first input argument is `Pairs_Counts`,  a zero-indexed list of triples.\n",
    "- The second input argument is the positive integer support threshold `s`.\n",
    "- The underlying itemset is 0-indexed, so e.g. `[0,1,3]` is a valid triple.\n",
    "- The return array `Candidates` should be a list of 3-element lists, as above.\n",
    "\n",
    "You should **not** convert the input list `Pairs_Counts` into a triangular array as part of your function.  After all, sometimes we use the list format for pairs because it saves memory compared to the triangular array format!  You may be able to borrow heavily from the logic of your first function, though!"
   ]
  },
  {
   "cell_type": "code",
   "execution_count": 6,
   "metadata": {},
   "outputs": [],
   "source": [
    "def Cand_Trips_List(Pairs_Counts, s):\n",
    "    #do the thing\n",
    "    Candidates = possibleCandidates(Pairs_Counts,s) #wrote this function possibleCanditates to use in part b so I just called here\n",
    "    return Candidates\n",
    "\n"
   ]
  },
  {
   "cell_type": "markdown",
   "metadata": {},
   "source": [
    "#### Part D:\n",
    "\n",
    "Do the test case again.  Below is the list reprentation of the same matrix $M$ from part B.  \n",
    " \n",
    "Input the given list into your function to verify that it returns the correct valid triples at $s=1$ and $s=6$."
   ]
  },
  {
   "cell_type": "code",
   "execution_count": 7,
   "metadata": {},
   "outputs": [
    {
     "data": {
      "text/plain": [
       "[[0, 1, 10],\n",
       " [0, 2, 7],\n",
       " [0, 3, 3],\n",
       " [0, 4, 2],\n",
       " [1, 2, 6],\n",
       " [1, 3, 4],\n",
       " [1, 4, 3],\n",
       " [2, 3, 3],\n",
       " [2, 4, 2],\n",
       " [3, 4, 0]]"
      ]
     },
     "execution_count": 7,
     "metadata": {},
     "output_type": "execute_result"
    }
   ],
   "source": [
    "Pairs_Counts=[[0,1,10], [0,2,7], [0,3,3], [0,4,2],\\\n",
    "             [1,2,6],[1,3,4], [1,4,3],\\\n",
    "             [2,3,3],[2,4,2],\\\n",
    "             [3,4,0]]\n",
    "Pairs_Counts\n",
    "\n",
    "#Check that...\n",
    "#Cand_Trips(Pairs_Counts, 1) returns all the possible triples except those that contain BOTH items 3 and 4.\n",
    "#Cand_Trips(Pairs_Counts, 6) returns only the triple [[0,1,2]]"
   ]
  },
  {
   "cell_type": "code",
   "execution_count": 8,
   "metadata": {},
   "outputs": [
    {
     "name": "stdout",
     "output_type": "stream",
     "text": [
      "Cand_Trips_List(Pairs_Counts, 1): [[0, 1, 2], [0, 1, 3], [0, 1, 4], [0, 2, 3], [0, 2, 4], [1, 2, 3], [1, 2, 4]]\n",
      "Cand_Trips_List(Pairs_Counts, 6): [[0, 1, 2]]\n"
     ]
    }
   ],
   "source": [
    "print(\"Cand_Trips_List(Pairs_Counts, 1): \" +str(Cand_Trips_List(Pairs_Counts, 1)))\n",
    "print(\"Cand_Trips_List(Pairs_Counts, 6): \" +str(Cand_Trips_List(Pairs_Counts, 6)))\n"
   ]
  },
  {
   "cell_type": "markdown",
   "metadata": {},
   "source": [
    "#### Part E\n",
    "\n",
    "Describe *in words* how you would generalize your code in part D to work for generating candidate quadruples $[i_1, i_2, i_3, i_4]$ from an input list of triples counts (each element of the form $[i, j, k, c_{ijk}]$)."
   ]
  },
  {
   "cell_type": "markdown",
   "metadata": {},
   "source": [
    "The way my code works (refering to function \"possibleCandidates\" in part b as it solves part D) is with two main loops. The first one is to collect a list of each element where $c_{ijk} > s $ in the form of a set {i, j, k}. The only real change I would have to make to this for loop is to make it accept n amount of elements(in this case n=4). Now that we have the elements that our \"frequent\", stored in list L1. We need to get our candidate quadruples. Using the same definition tweaked for quadruples:we get that the itemset $\\{i_1, i_2, i_3, i_4\\}$ is only a candidate if all 4 of the itemsets in $\\{\\{i_1, i_2, i_3\\}, \\{i_1, i_2, i_4\\}, \\{i_1, i_3, i_4\\}, \\{i_2, i_3, i_4\\}\\}$ are frequent. Before we enter the second loop, we need to store the candidates in a list lets say C1. The second main loop is a nested loop that iterates over each triple pair in L1 and for each pair checks every other pair in L1 to see if they intersect with another. If that is true than using a few set operations we can find the other two pairs and if both are in L1 and not in C1(no duplicates), we append our new found set in list form to C1. "
   ]
  },
  {
   "cell_type": "markdown",
   "metadata": {},
   "source": [
    "# Problem 4 (Practice: A-Priori.  Not due this week.)\n",
    "\n",
    "This problem is **not on this homework**.  It is repeated on the homework due next week on Friday, Mar 19, which also contains your first PageRank/power iteration problem(s).  But it is contained here in brief in case you wish to start on it early, because it involves using A-Priori and includes some data wrangling/munging that you might enjoy extra time on.\n",
    "\n",
    "Consider the Online Retail data set provided in `onlineretail.csv`.  This includes over 500,000 purchases from an online retailer.\n",
    "\n",
    "We want to use the baskets (marked by `InvoiceNo`) and the items (marked by `StockCode` and/or `Description`) to perform an item basket analysis.\n",
    "\n",
    "This data set is small enough to run directly from main memory, so you may do that if you wish.  You may also complete this problem using only the first 100,000 entries of the .csv if you wish for shorter computational time.  Be very explicit which you are using.\n",
    "\n",
    "#### a)  There are some odd entries in the data set.  Make sure that you're discarding any transactions and items with no `Description`, non-positive `Quantity`, or non-positive `Unit Price`.\n",
    "\n",
    "\n",
    "#### b) For our first iteration, we will use just `StockCode` for the items.  Use `StockCode` to create a table of frequent single items at 1% support threshold.  For convenience on this part of the problem and part c), you may choose to discard all items with non-integer values in `StockCode`.  Was 1% an appropriate support threshold?  Describe why or why not.\n",
    "\n",
    "#### c) Use A-priori to find all frequent  pairs of items from your set of frequent items in a).  Use whatever support threshold you feel is most appropriate.\n",
    "\n",
    "#### d) Use a hash table to hash items from their `Descriptions`.  Include a check to minimize and fix any collisions, as in nb08.\n",
    "\n",
    "#### e) Use A-priori to find all frequent items and all frequent pairs of items from your hashed data set in part c).\n",
    "\n",
    "#### f) Did any frequent items appear in part d) that did not in part b)?  If so, list them."
   ]
  }
 ],
 "metadata": {
  "kernelspec": {
   "display_name": "Python 3",
   "language": "python",
   "name": "python3"
  },
  "language_info": {
   "codemirror_mode": {
    "name": "ipython",
    "version": 3
   },
   "file_extension": ".py",
   "mimetype": "text/x-python",
   "name": "python",
   "nbconvert_exporter": "python",
   "pygments_lexer": "ipython3",
   "version": "3.7.4"
  }
 },
 "nbformat": 4,
 "nbformat_minor": 2
}
