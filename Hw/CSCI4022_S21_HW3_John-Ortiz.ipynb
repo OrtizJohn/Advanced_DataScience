{
 "cells": [
  {
   "cell_type": "markdown",
   "metadata": {},
   "source": [
    "# CSCI4022 Homework 3; Clustering\n",
    "\n",
    "## Due Monday, February 22 at 11:59 pm to Canvas\n",
    "\n",
    "#### Submit this file as a .ipynb with *all cells compiled and run* to the associated dropbox.\n",
    "\n",
    "***\n",
    "\n",
    "Your solutions to computational questions should include any specified Python code and results as well as written commentary on your conclusions.  Remember that you are encouraged to discuss the problems with your classmates, but **you must write all code and solutions on your own**.\n",
    "\n",
    "**NOTES**: \n",
    "\n",
    "- Any relevant data sets should be available on Canvas. To make life easier on the graders if they need to run your code, do not change the relative path names here. Instead, move the files around on your computer.\n",
    "- If you're not familiar with typesetting math directly into Markdown then by all means, do your work on paper first and then typeset it later.  Here is a [reference guide](https://math.meta.stackexchange.com/questions/5020/mathjax-basic-tutorial-and-quick-reference) linked on Canvas on writing math in Markdown. **All** of your written commentary, justifications and mathematical work should be in Markdown.  I also recommend the [wikibook](https://en.wikibooks.org/wiki/LaTeX) for LaTex.\n",
    "- Because you can technically evaluate notebook cells is a non-linear order, it's a good idea to do **Kernel $\\rightarrow$ Restart & Run All** as a check before submitting your solutions.  That way if we need to run your code you will know that it will work as expected. \n",
    "- It is **bad form** to make your reader interpret numerical output from your code.  If a question asks you to compute some value from the data you should show your code output **AND** write a summary of the results in Markdown directly below your code. \n",
    "- 45 points of this assignment are in problems.  The remaining 5 are for neatness, style, and overall exposition of both code and text.\n",
    "- This probably goes without saying, but... For any question that asks you to calculate something, you **must show all work and justify your answers to receive credit**. Sparse or nonexistent work will receive sparse or nonexistent credit. \n",
    "- There is *not a prescribed API* for these problems.  You may answer coding questions with whatever syntax or object typing you deem fit.  Your evaluation will primarily live in the clarity of how well you present your final results, so don't skip over any interpretations!  Your code should still be commented and readable to ensure you followed the given course algorithm.\n",
    "\n",
    "---"
   ]
  },
  {
   "cell_type": "code",
   "execution_count": 1,
   "metadata": {},
   "outputs": [],
   "source": [
    "import matplotlib.pyplot as plt\n",
    "import numpy as np\n",
    "import pandas as pd\n",
    "import statsmodels.api as sm"
   ]
  },
  {
   "cell_type": "markdown",
   "metadata": {},
   "source": [
    "\n",
    "***\n",
    "<a/ id='p4'></a>\n",
    "[Back to top](#top)\n",
    "# Problem 1 (Theory: GMM; 5 pts) \n",
    "In the GMM slides, we stated that the weights $w_m$ of the 1-dimensional GMM with pdf\n",
    "\n",
    "$f(x|\\theta)=w_1\\phi(x|\\mu_1, \\sigma_1^2)+w_2\\phi(x|\\mu_2, \\sigma_2^2)+\\dots+ w_m\\phi(x|\\mu_m, \\sigma_m^2)$\n",
    "\n",
    "required the weights to sum to one.  \n",
    "\n",
    "#### a) Use the following markdown cell to prove this statement.  In a sentence, describe how this proof might change in higher dimensions."
   ]
  },
  {
   "cell_type": "markdown",
   "metadata": {},
   "source": [
    " A PDF gives probability of data values given parameter values,and a GMM wants the opposite. To get to the form above we use bayes' theorem: $P(\\theta | x) = \\frac{f(x | \\theta) g(\\theta)}{h(x)} $, where $g(\\theta)$ would be discarded since we assume no probability assumption on parameters of $\\theta$ and since GMM is a maximization function we would ignore the denominator. \n",
    " \n",
    " $f(x | \\theta)$ is the likelihood of x falling into a range x values represented as m-Guasssian's $\\phi(x|\\mu_m, \\sigma_m^2)$.  We utilize the Law of total probability to combine all pdf's onto one continous curve. Since each gaussian uses this we know that each $w_m = \\frac{n_m}{N} = \\frac{\\texttt{# of data point in cluster m}}{\\texttt{Total number of data points}}$. Thus the sum of every weight $w_i$ must add to one by definition.\n",
    " \n",
    " The proof might change in higher dimensions, for each higher dimension the numerator needs to account for cluster m from each dimension $d_i$. And the numerator would also need account for the new total amount of points. Below is an example with two dimension: \n",
    " $w_m = \\frac{\\texttt{# of data point in cluster m by X value + # of data point in cluster m by Y value}}{\\texttt{Total number of data points * dimension d}}$"
   ]
  },
  {
   "cell_type": "markdown",
   "metadata": {},
   "source": [
    "#### b) Is it possible to have a valid pdf $f(x)$ above if any of the weights $w_k$ are negative?  If not, why not?  If so, what other difficulties might be associated with negative weights?"
   ]
  },
  {
   "cell_type": "markdown",
   "metadata": {},
   "source": [
    "I think it is not possible to have a valid pdf with some $w_k$ being negative. Another way to view it as it is the probability that a point is in a cluster where a cluster equals a specific Guassian. Hence a negative probability would be impossible."
   ]
  },
  {
   "cell_type": "markdown",
   "metadata": {},
   "source": [
    "# Problem 2 (Simulation: GMMs and simulated data; 20 pts)"
   ]
  },
  {
   "cell_type": "markdown",
   "metadata": {},
   "source": [
    "The code below loads up a dataset tracking the eruptions of the geyser Old Faithful in Yellowstone.  It has two features:\n",
    "\n",
    "- eruptions; numeric; Eruption time in mins\n",
    "- waiting; numeric; Waiting time to next eruption (in mins)\n",
    "\n",
    "As the plot shows, these two variables are highly related, and we observe a data set that clearly has multiple distinct modes.\n",
    "\n",
    "Our goal in this problem is not only to capture the data set with the GMM, but to capture it well enough to simulate *new* eruptions from the original distribution."
   ]
  },
  {
   "cell_type": "code",
   "execution_count": 2,
   "metadata": {},
   "outputs": [
    {
     "name": "stdout",
     "output_type": "stream",
     "text": [
      "   eruptions  waiting\n",
      "0      3.600       79\n",
      "1      1.800       54\n",
      "2      3.333       74\n",
      "3      2.283       62\n",
      "4      4.533       85\n"
     ]
    },
    {
     "name": "stderr",
     "output_type": "stream",
     "text": [
      "C:\\Users\\johno\\Anaconda3\\lib\\site-packages\\statsmodels\\datasets\\utils.py:192: FutureWarning: `item` has been deprecated and will be removed in a future version\n",
      "  return dataset_meta[\"Title\"].item()\n"
     ]
    },
    {
     "data": {
      "text/plain": [
       "<matplotlib.collections.PathCollection at 0x1fad4cdaf88>"
      ]
     },
     "execution_count": 2,
     "metadata": {},
     "output_type": "execute_result"
    },
    {
     "data": {
      "image/png": "[encoded data removed]",
      "text/plain": [
       "<Figure size 432x288 with 1 Axes>"
      ]
     },
     "metadata": {
      "needs_background": "light"
     },
     "output_type": "display_data"
    }
   ],
   "source": [
    "ff= sm.datasets.get_rdataset('faithful').data\n",
    "print(ff.head())\n",
    "plt.scatter(ff['waiting'], ff['eruptions'])"
   ]
  },
  {
   "cell_type": "markdown",
   "metadata": {},
   "source": [
    "## Part A: Fit Models\n",
    "\n",
    "Run 5 different 2-D Gaussian Mixture Models on the given data with $k=2, 4, 6, 8, 10$ components.  You may use any form of intialization, but I recommend randomness for ease of use/repetition.\n",
    "\n",
    "Plot their \"elbow plot\" of $k$ versus mean-distance-to-centroid.  Does it look like there is a best choice of $k$ from these options?  Does this match your intuition?  Explain."
   ]
  },
  {
   "cell_type": "code",
   "execution_count": 3,
   "metadata": {},
   "outputs": [
    {
     "data": {
      "text/plain": [
       "[[1.302728332849468, 13.977807846754933],\n",
       " [13.977807846754933, 184.82331235077052]]"
      ]
     },
     "execution_count": 3,
     "metadata": {},
     "output_type": "execute_result"
    }
   ],
   "source": [
    "import random\n",
    "import scipy.stats as stats\n",
    "\n",
    "def getStartingGuassian(data):\n",
    "    return np.cov(data)\n",
    "def getRandomMean(data):\n",
    "    wait =list(data['waiting'])\n",
    "    erupt =list(data['eruptions'])\n",
    "    eruptRandMean = np.random.choice(erupt)\n",
    "    #eruptRandMean = np.random.randint(np.min(erupt),np.max(erupt))\n",
    "    #waitRandMean = np.random.randint(np.min(wait),np.max(wait))\n",
    "    waitRandMean = np.random.choice(wait)\n",
    "    return [eruptRandMean,waitRandMean]\n",
    "def getRandomCovar(data):\n",
    "    #randCov = np.random.choice(np.cov(data))\n",
    "    x =list(data['eruptions'])\n",
    "    y =list(data['waiting'])\n",
    "    xCov =np.cov(x,y)\n",
    "    \n",
    "    covMatrix =np.cov(np.stack((x, y), axis=0))\n",
    "    \n",
    "    correlation = covMatrix[0][1]\n",
    "    covarMax = covMatrix[0][0]\n",
    "    covarMin = covMatrix[1][1]\n",
    "    #covar = np.random.randint(covarMin,covarMax) #real random initializations ?\n",
    "    #covar1 = np.random.randint(covarMin,covarMax)\n",
    "    #arr = [[covar, correlation],[correlation,covar1]]\n",
    "    arr = [[covarMax, correlation],[correlation,covarMin]]\n",
    "    return arr\n",
    "    #return randCov\n",
    "def gmm2d_initialization(k,ff):\n",
    "    #initialization\n",
    "    #XYgrid = getStartingGuassian(ff) #np.cov\n",
    "    guassian =[]\n",
    "    for i in range(k):\n",
    "        \n",
    "        \n",
    "        startMean = getRandomMean(ff)\n",
    "        #startCovar = getCovar(ff)\n",
    "        startCovar = getRandomCovar(ff)\n",
    "        guassian.append([startMean,startCovar])\n",
    "        #print(startMean)\n",
    "        #print(startCovar)\n",
    "    return guassian\n",
    "#getRandomMean(ff)\n",
    "getRandomCovar(ff)\n",
    "#getRandomMean(ff)"
   ]
  },
  {
   "cell_type": "code",
   "execution_count": 4,
   "metadata": {},
   "outputs": [],
   "source": [
    "def addTwoVectors (v1,v2):\n",
    "    return v1+v2"
   ]
  },
  {
   "cell_type": "code",
   "execution_count": 5,
   "metadata": {},
   "outputs": [],
   "source": [
    "#create function to run with k=# of components \n",
    "#     k=2 2 guassian\n",
    "#k=10\n",
    "def gmm(k,ff):\n",
    "\n",
    "    omega = gmm2d_initialization(k,ff)\n",
    "    #initialize pi\n",
    "    #pi= 1/k\n",
    "\n",
    "    \n",
    "    #for k\n",
    "    piMatrix=[]\n",
    "    data_given_classMatrix = []\n",
    "    class_given_dataMatrix=[]\n",
    "    n_classMatrix =[]\n",
    "    for i in range(k):\n",
    "        piMatrix.append(1/k)\n",
    "        #f1 = np.zeros(ff.shape)\n",
    "        #data_given_classMatrix.append(f1)\n",
    "    \n",
    "    firstRun = True\n",
    "    for _ in range(10): #note I know it is not completely right when i put to higher value if \n",
    "        summ1=0\n",
    "       \n",
    "        #expectation step ------------------------------------------------------------\n",
    "        \n",
    "        for s in range(len(omega)):\n",
    "            \n",
    "            #print(stats.multivariate_normal.pdf(x=ff, mean=omega[s][0], cov=omega[s][1]))\n",
    "            if(firstRun):\n",
    "                data_given_classMatrix.append(stats.multivariate_normal.pdf(x=ff, mean=omega[s][0], cov=omega[s][1]))\n",
    "                class_given_data = data_given_classMatrix[s] * piMatrix[s]\n",
    "                #print(class_given_data)\n",
    "                class_given_dataMatrix.append(class_given_data)\n",
    "            else:\n",
    "               \n",
    "                data_given_classMatrix[s]=stats.multivariate_normal.pdf(x=ff, mean=omega[s][0], cov=omega[s][1])\n",
    "                class_given_data = data_given_classMatrix[s] * piMatrix[s]\n",
    "                #print(class_given_data)\n",
    "                class_given_dataMatrix[s] =class_given_data\n",
    "            \n",
    "            if( s == 0):\n",
    "                summ1 = class_given_dataMatrix[s]\n",
    "            else:\n",
    "                \n",
    "                summ1= addTwoVectors(summ1,class_given_dataMatrix[s])\n",
    "            #print(summ1)\n",
    "        #summ = class_given_dataMatrix[0] +class_given_dataMatrix[1]     \n",
    "        #print(\"_______________\")\n",
    "        #print(summ1)\n",
    "        #print(len(summ1))\n",
    "\n",
    "\n",
    "\n",
    "        for i in range(len(class_given_dataMatrix)): \n",
    "        \n",
    "            #update class given data matrix\n",
    "            class_given_dataMatrix[i] = class_given_dataMatrix[i]/summ1\n",
    "            #print(class_given_dataMatrix[i])\n",
    "        #maximization step\n",
    "    \n",
    "        test =0\n",
    "        for i in range(len(class_given_dataMatrix)):\n",
    "            n_class = np.sum(class_given_dataMatrix[i])\n",
    "            if(firstRun):\n",
    "                n_classMatrix.append(n_class)\n",
    "                #print(\"first run : \"+str(n_class))\n",
    "            else:\n",
    "                n_classMatrix[i] = n_class\n",
    "            newPi = n_class/len(ff['eruptions'])\n",
    "            piMatrix[i] = newPi\n",
    "            #print(newPi)\n",
    "            test+= piMatrix[i]\n",
    "        if(test < 1.0): #double checks/forces probalities to add to 1\n",
    "            dif= 1.0-test\n",
    "            #grab ranom class to rare case .000001 percent\n",
    "            indxRand = random.randint(0,k-1)\n",
    "            #print(indxRand)\n",
    "            #print(dif)\n",
    "            piMatrix[indxRand] = piMatrix[indxRand] + dif #dif has a negligible amount \n",
    "\n",
    "        #update mu's \n",
    "        for i in range(len(omega)):\n",
    "            #newMu = (1/n_classMatrix[i]) * np.sum(omega[i][0]*ff.to_numpy())\n",
    "            #print((1/n_classMatrix[i]))\n",
    "            #print(\"_____________\")\n",
    "            eruptMu = (1/n_classMatrix[i])* np.sum(class_given_dataMatrix[i]*ff['eruptions'].values)\n",
    "            waitMu = (1/n_classMatrix[i])* np.sum(class_given_dataMatrix[i]*ff['waiting'].values)\n",
    "\n",
    "            newMu = [eruptMu,waitMu]\n",
    "            omega[i][0] = newMu\n",
    "            #print(omega[i][0])\n",
    "\n",
    "        #update covariances\n",
    "           \n",
    "\n",
    "            erupt_given_wait = (1/n_classMatrix[i])*np.sum(class_given_dataMatrix[i]*((ff['eruptions'].values-eruptMu)*(ff['waiting'].values-waitMu).T))\n",
    "            wait_given_erupt = (1/n_classMatrix[i])*np.sum(class_given_dataMatrix[i]*((ff['waiting'].values-waitMu)*(ff['eruptions'].values-eruptMu).T))\n",
    "\n",
    "            erupt_given_erupt = (1/n_classMatrix[i])*np.sum(class_given_dataMatrix[i]*((ff['eruptions'].values-eruptMu)*(ff['eruptions'].values-eruptMu).T))\n",
    "            wait_given_wait = (1/n_classMatrix[i])*np.sum(class_given_dataMatrix[i]*((ff['waiting'].values-waitMu)*(ff['waiting'].values-waitMu).T))\n",
    "            cov1 = np.sum((ff['waiting'].values-waitMu)*(ff['eruptions'].values-eruptMu))/len(ff['eruptions'])\n",
    "            cov2 = np.sum((ff['eruptions'].values-eruptMu)*(ff['waiting'].values-waitMu))/len(ff['eruptions'])\n",
    "            #print(erupt_given_wait,wait_given_erupt) #sanity check\n",
    "            #newCovMatrix = [[var1, cov1],[cov1,var2]]\n",
    "            newCovMatrix = [[erupt_given_erupt, wait_given_erupt],[erupt_given_wait,wait_given_wait]]\n",
    "            #newCovMatrix = [[erupt_given_erupt, cov1],[cov2,wait_given_wait]]\n",
    "            #newCovMatrix = [[wait_given_wait, wait_given_erupt],[erupt_given_wait,erupt_given_erupt]]\n",
    "\n",
    "            #print(omega[i][1])\n",
    "            omega[i][1] = newCovMatrix\n",
    "            \n",
    "            #print(omega[i][1])\n",
    "            #print(\" \")\n",
    "        #print(\"_____________\")\n",
    "        firstRun = False\n",
    "        \n",
    "    \n",
    "    return (omega,piMatrix)\n",
    "omega, piMatrix = gmm(10,ff)\n"
   ]
  },
  {
   "cell_type": "code",
   "execution_count": 6,
   "metadata": {},
   "outputs": [],
   "source": [
    "def dist1(x1, x2): #euclidean dist \n",
    "    return np.sqrt(np.sum((x1-x2)**2))"
   ]
  },
  {
   "cell_type": "code",
   "execution_count": 7,
   "metadata": {},
   "outputs": [],
   "source": [
    "distances_Yaxis = []\n",
    "kVals_Xaxis=[]\n",
    "ult_omegaMatrix=[] #should have length 5\n",
    "ult_piMatrix = [] #should have length 5\n",
    "for i in range(2,12,2):\n",
    "    kVals_Xaxis.append(i)\n",
    "    omega, piMatrix = gmm(i,ff)\n",
    "    ult_omegaMatrix.append(omega)\n",
    "    ult_piMatrix.append(piMatrix)\n",
    "    #for every point \n",
    "    avgDist=0\n",
    "    for i, row in ff.iterrows():\n",
    "        point =row.values\n",
    "        guassianIndex = piMatrix.index(np.max(piMatrix))\n",
    "        mus = omega[guassianIndex][0]\n",
    "        distForPoint = dist1(point,mus)\n",
    "        avgDist+= distForPoint\n",
    "        #print(point)\n",
    "        #print(guassianIndex)\n",
    "    #print(\"__________\")\n",
    "    avgDist= avgDist/ff.shape[0]\n",
    "    distances_Yaxis.append(avgDist)\n",
    "    #print(avgDist)\n",
    "    '''\n",
    "    guassianIndex = piMatrix.index(np.max(piMatrix))\n",
    "    mus = omega[guassianIndex][0]\n",
    "    xErupt = distCentr_one(mus[0],ff['eruptions'])\n",
    "    xWait = distCentr_one(mus[1],ff['waiting'])\n",
    "\n",
    "    xErupt_avg = np.sum(np.abs(xErupt))/len(xErupt)\n",
    "    xWait_avg = np.sum(np.abs(xWait))/len(xWait)\n",
    "\n",
    "    mid = (xErupt_avg + xWait_avg) /2\n",
    "    distances_Yaxis.append(mid)'''\n",
    "    "
   ]
  },
  {
   "cell_type": "code",
   "execution_count": 8,
   "metadata": {},
   "outputs": [
    {
     "data": {
      "image/png": "[encoded data removed]",
      "text/plain": [
       "<Figure size 864x432 with 1 Axes>"
      ]
     },
     "metadata": {
      "needs_background": "light"
     },
     "output_type": "display_data"
    }
   ],
   "source": [
    "fig, ax= plt.subplots(figsize=(12,6))\n",
    "plt.scatter(kVals_Xaxis, distances_Yaxis)\n",
    "ax.set_xlabel('K')\n",
    "ax.set_ylabel('avg distance to centroid');"
   ]
  },
  {
   "cell_type": "markdown",
   "metadata": {},
   "source": [
    "I know there is some error in my Gmm model so this graph (and the following) might not be the best indication. Assuming the graph produced is some what accurate, my intuition of 2 guassian having the smallest distance to the \"centroid\" was incorrect. To compute the distance from point to component I chose the most likely component and computed that one's and the points euclidean distance. From the graph above it seems that 4 guassians is the correct choice. I do have my doubt because my answers fluctuate."
   ]
  },
  {
   "cell_type": "markdown",
   "metadata": {},
   "source": [
    "## Part B: Simulate from Models\n",
    "\n",
    "Because the GMM is a *generative* model, we could use our results from part $A$ to not only score models based on their mean-distance-to-centroid (or other statistical measures like AIC, BIC), we could simulate points from the models and visually ascertain whether or not they appear similar to the original distribution.\n",
    "\n",
    "For each of the 5 GMM models in part a), simulate 272 points from your estimated density function (recall: this is a two-part simulation of choosing a component **then** drawing from the normal of appropriate mean/covariance).\n",
    "\n",
    "Create a figure with 2 columns and 3 rows holding all 6 data sets: the 5 simulated ones and the original data shown above.  Label each plot appropriately.  "
   ]
  },
  {
   "cell_type": "code",
   "execution_count": 9,
   "metadata": {},
   "outputs": [
    {
     "data": {
      "text/plain": [
       "Text(0.5, 1.0, 'OG')"
      ]
     },
     "execution_count": 9,
     "metadata": {},
     "output_type": "execute_result"
    },
    {
     "data": {
      "image/png": "[encoded data removed]",
      "text/plain": [
       "<Figure size 1296x720 with 6 Axes>"
      ]
     },
     "metadata": {
      "needs_background": "light"
     },
     "output_type": "display_data"
    }
   ],
   "source": [
    "def gmm_samples(num_samples, omega, piMatrix):\n",
    "    #samples = []\n",
    "    samplesX = []\n",
    "    samplesY = []\n",
    "    for k in range(num_samples):\n",
    "        # Sample Delta ~ Bernoulli(pi)\n",
    "        indexChoices = [i for i in range(len(omega))]\n",
    "        #print(indexChoices)\n",
    "        #print(piMatrix)\n",
    "        delta = np.random.choice(indexChoices, p=piMatrix) \n",
    "        #print(delta)\n",
    "        #samples.append(stats.multivariate_normal.pdf(k,omega[delta][0], omega[delta][1],1))\n",
    "        newPt =np.random.multivariate_normal(omega[delta][0], omega[delta][1],1)\n",
    "        #print(newPt[0][0])\n",
    "        samplesX.append(newPt[0][0])\n",
    "        samplesY.append(newPt[0][1])\n",
    "        \n",
    "    return (samplesX,samplesY)\n",
    "fig, axes = plt.subplots(nrows=3, ncols=2, figsize=(18,10))\n",
    "\n",
    "fig.suptitle('5 generated gmms and og Data')\n",
    "\n",
    "kCount =0\n",
    "for i in range(0,3):\n",
    "    \n",
    "    for j in range(0,2):\n",
    "        if((i!=2) or (j!=1)):\n",
    "            kVal = kVals_Xaxis[kCount]\n",
    "            name = \"GMM with \" +str(kVal) +\" components\"\n",
    "            x,y = gmm_samples(272, ult_omegaMatrix[kCount], ult_piMatrix[kCount])\n",
    "            axes[i][j].scatter(x, y)\n",
    "            axes[i][j].set_title(name)\n",
    "            kCount+=1\n",
    "axes[2][1].scatter(ff['eruptions'], ff['waiting'])\n",
    "axes[2][1].set_title(\"OG\")\n",
    " "
   ]
  },
  {
   "cell_type": "markdown",
   "metadata": {},
   "source": [
    "## Part C: Discussion\n",
    "\n",
    "Which plot or plots look closest to the original data?  Depending on your interpretations of the elbow plot versus the simulated data, you may have decided that we wanted a different value of $k$ for the best model to *simulate* from rather than the best model to *cluster* or classify upon.  Do you think that this is normally the case?  Why or why not?  What properties of a data set would make one task easier or harder with more or less $k$?"
   ]
  },
  {
   "cell_type": "markdown",
   "metadata": {},
   "source": [
    "The plots that look closest are GMM with 4 and 6 components. I did choose a different value k based on the simulations. I think this is normally the case, a data set that has variables thare are highly related. The more k components would make simulating points more precise because there is wider range for the points to fall into. As for clustering, to many k woulds make it worse after hitting the \"elbow\", essentially when you increase k after this point, we end up splitting a one of the clusters that really did not need to be split."
   ]
  },
  {
   "cell_type": "markdown",
   "metadata": {},
   "source": [
    "\n",
    "\n",
    "# Problem 3 (Practice:k-means and clustering similarities; 20 pts)\n",
    "\n",
    "Our goal in this problem is to get a better understanding of two important facets of clustering: ways to compare between clusters and how much initialization might matter for e.g. kmeans.\n",
    "\n",
    "The code below loads up a well known dataset extracted from the 1974 Motor Trend US magazine, and comprises fuel consumption and 10 aspects of automobile design and performance for 32 automobiles (1973–74 models).  The columns are:\n",
    "\n",
    "- mpg:\tMiles/(US) gallon\n",
    "- cyl:\tNumber of cylinders\n",
    "- disp:\tDisplacement (cu.in.)\n",
    "-  hp:\tGross horsepower\n",
    "- drat:\tRear axle ratio\n",
    "- wt:\tWeight (1000 lbs)\n",
    "- qsec:\t1/4 mile time\n",
    "- vs:\tEngine (0 = V-shaped, 1 = straight)\n",
    "- am:\tTransmission (0 = automatic, 1 = manual)\n",
    "- gear:\tNumber of forward gears\n",
    "- carb:\tNumber of carburetors\n",
    "\n",
    "We're going to attempt to cluster this data using **4** of these columns: mpg, disp, wt, and qsec."
   ]
  },
  {
   "cell_type": "code",
   "execution_count": 10,
   "metadata": {
    "scrolled": true
   },
   "outputs": [
    {
     "name": "stdout",
     "output_type": "stream",
     "text": [
      "                mpg  cyl   disp   hp  drat     wt   qsec  vs  am  gear  carb\n",
      "Mazda RX4      21.0    6  160.0  110  3.90  2.620  16.46   0   1     4     4\n",
      "Mazda RX4 Wag  21.0    6  160.0  110  3.90  2.875  17.02   0   1     4     4\n",
      "Datsun 710     22.8    4  108.0   93  3.85  2.320  18.61   1   1     4     1\n"
     ]
    },
    {
     "data": {
      "image/png": "[encoded data removed]",
      "text/plain": [
       "<Figure size 864x432 with 1 Axes>"
      ]
     },
     "metadata": {
      "needs_background": "light"
     },
     "output_type": "display_data"
    }
   ],
   "source": [
    "cars= sm.datasets.get_rdataset('mtcars').data\n",
    "print(cars.head(3))\n",
    "\n",
    "#example plot of mpg x hp\n",
    "fig, ax= plt.subplots(figsize=(12,6))\n",
    "plt.scatter(cars['mpg'], cars['hp'])\n",
    "ax.set_xlabel('mpg')\n",
    "ax.set_ylabel('hp');"
   ]
  },
  {
   "cell_type": "markdown",
   "metadata": {},
   "source": [
    "## Part A) K-means and Normalization: Intuition\n",
    "\n",
    "The first question we should ask is whether or not to normalize our data.  Use the pandas methods `describe` on the data frame.  What do you expect to happen if we cluster without normalizing the data?  Why?\n",
    "\n"
   ]
  },
  {
   "cell_type": "code",
   "execution_count": 11,
   "metadata": {},
   "outputs": [
    {
     "data": {
      "text/html": [
       "<div>\n",
       "<style scoped>\n",
       "    .dataframe tbody tr th:only-of-type {\n",
       "        vertical-align: middle;\n",
       "    }\n",
       "\n",
       "    .dataframe tbody tr th {\n",
       "        vertical-align: top;\n",
       "    }\n",
       "\n",
       "    .dataframe thead th {\n",
       "        text-align: right;\n",
       "    }\n",
       "</style>\n",
       "<table border=\"1\" class=\"dataframe\">\n",
       "  <thead>\n",
       "    <tr style=\"text-align: right;\">\n",
       "      <th></th>\n",
       "      <th>mpg</th>\n",
       "      <th>cyl</th>\n",
       "      <th>disp</th>\n",
       "      <th>hp</th>\n",
       "      <th>drat</th>\n",
       "      <th>wt</th>\n",
       "      <th>qsec</th>\n",
       "      <th>vs</th>\n",
       "      <th>am</th>\n",
       "      <th>gear</th>\n",
       "      <th>carb</th>\n",
       "    </tr>\n",
       "  </thead>\n",
       "  <tbody>\n",
       "    <tr>\n",
       "      <td>count</td>\n",
       "      <td>32.000000</td>\n",
       "      <td>32.000000</td>\n",
       "      <td>32.000000</td>\n",
       "      <td>32.000000</td>\n",
       "      <td>32.000000</td>\n",
       "      <td>32.000000</td>\n",
       "      <td>32.000000</td>\n",
       "      <td>32.000000</td>\n",
       "      <td>32.000000</td>\n",
       "      <td>32.000000</td>\n",
       "      <td>32.0000</td>\n",
       "    </tr>\n",
       "    <tr>\n",
       "      <td>mean</td>\n",
       "      <td>20.090625</td>\n",
       "      <td>6.187500</td>\n",
       "      <td>230.721875</td>\n",
       "      <td>146.687500</td>\n",
       "      <td>3.596563</td>\n",
       "      <td>3.217250</td>\n",
       "      <td>17.848750</td>\n",
       "      <td>0.437500</td>\n",
       "      <td>0.406250</td>\n",
       "      <td>3.687500</td>\n",
       "      <td>2.8125</td>\n",
       "    </tr>\n",
       "    <tr>\n",
       "      <td>std</td>\n",
       "      <td>6.026948</td>\n",
       "      <td>1.785922</td>\n",
       "      <td>123.938694</td>\n",
       "      <td>68.562868</td>\n",
       "      <td>0.534679</td>\n",
       "      <td>0.978457</td>\n",
       "      <td>1.786943</td>\n",
       "      <td>0.504016</td>\n",
       "      <td>0.498991</td>\n",
       "      <td>0.737804</td>\n",
       "      <td>1.6152</td>\n",
       "    </tr>\n",
       "    <tr>\n",
       "      <td>min</td>\n",
       "      <td>10.400000</td>\n",
       "      <td>4.000000</td>\n",
       "      <td>71.100000</td>\n",
       "      <td>52.000000</td>\n",
       "      <td>2.760000</td>\n",
       "      <td>1.513000</td>\n",
       "      <td>14.500000</td>\n",
       "      <td>0.000000</td>\n",
       "      <td>0.000000</td>\n",
       "      <td>3.000000</td>\n",
       "      <td>1.0000</td>\n",
       "    </tr>\n",
       "    <tr>\n",
       "      <td>25%</td>\n",
       "      <td>15.425000</td>\n",
       "      <td>4.000000</td>\n",
       "      <td>120.825000</td>\n",
       "      <td>96.500000</td>\n",
       "      <td>3.080000</td>\n",
       "      <td>2.581250</td>\n",
       "      <td>16.892500</td>\n",
       "      <td>0.000000</td>\n",
       "      <td>0.000000</td>\n",
       "      <td>3.000000</td>\n",
       "      <td>2.0000</td>\n",
       "    </tr>\n",
       "    <tr>\n",
       "      <td>50%</td>\n",
       "      <td>19.200000</td>\n",
       "      <td>6.000000</td>\n",
       "      <td>196.300000</td>\n",
       "      <td>123.000000</td>\n",
       "      <td>3.695000</td>\n",
       "      <td>3.325000</td>\n",
       "      <td>17.710000</td>\n",
       "      <td>0.000000</td>\n",
       "      <td>0.000000</td>\n",
       "      <td>4.000000</td>\n",
       "      <td>2.0000</td>\n",
       "    </tr>\n",
       "    <tr>\n",
       "      <td>75%</td>\n",
       "      <td>22.800000</td>\n",
       "      <td>8.000000</td>\n",
       "      <td>326.000000</td>\n",
       "      <td>180.000000</td>\n",
       "      <td>3.920000</td>\n",
       "      <td>3.610000</td>\n",
       "      <td>18.900000</td>\n",
       "      <td>1.000000</td>\n",
       "      <td>1.000000</td>\n",
       "      <td>4.000000</td>\n",
       "      <td>4.0000</td>\n",
       "    </tr>\n",
       "    <tr>\n",
       "      <td>max</td>\n",
       "      <td>33.900000</td>\n",
       "      <td>8.000000</td>\n",
       "      <td>472.000000</td>\n",
       "      <td>335.000000</td>\n",
       "      <td>4.930000</td>\n",
       "      <td>5.424000</td>\n",
       "      <td>22.900000</td>\n",
       "      <td>1.000000</td>\n",
       "      <td>1.000000</td>\n",
       "      <td>5.000000</td>\n",
       "      <td>8.0000</td>\n",
       "    </tr>\n",
       "  </tbody>\n",
       "</table>\n",
       "</div>"
      ],
      "text/plain": [
       "             mpg        cyl        disp          hp       drat         wt  \\\n",
       "count  32.000000  32.000000   32.000000   32.000000  32.000000  32.000000   \n",
       "mean   20.090625   6.187500  230.721875  146.687500   3.596563   3.217250   \n",
       "std     6.026948   1.785922  123.938694   68.562868   0.534679   0.978457   \n",
       "min    10.400000   4.000000   71.100000   52.000000   2.760000   1.513000   \n",
       "25%    15.425000   4.000000  120.825000   96.500000   3.080000   2.581250   \n",
       "50%    19.200000   6.000000  196.300000  123.000000   3.695000   3.325000   \n",
       "75%    22.800000   8.000000  326.000000  180.000000   3.920000   3.610000   \n",
       "max    33.900000   8.000000  472.000000  335.000000   4.930000   5.424000   \n",
       "\n",
       "            qsec         vs         am       gear     carb  \n",
       "count  32.000000  32.000000  32.000000  32.000000  32.0000  \n",
       "mean   17.848750   0.437500   0.406250   3.687500   2.8125  \n",
       "std     1.786943   0.504016   0.498991   0.737804   1.6152  \n",
       "min    14.500000   0.000000   0.000000   3.000000   1.0000  \n",
       "25%    16.892500   0.000000   0.000000   3.000000   2.0000  \n",
       "50%    17.710000   0.000000   0.000000   4.000000   2.0000  \n",
       "75%    18.900000   1.000000   1.000000   4.000000   4.0000  \n",
       "max    22.900000   1.000000   1.000000   5.000000   8.0000  "
      ]
     },
     "execution_count": 11,
     "metadata": {},
     "output_type": "execute_result"
    }
   ],
   "source": [
    "cars.describe() #mpg, disp, wt, and qsec."
   ]
  },
  {
   "cell_type": "markdown",
   "metadata": {},
   "source": [
    "We have to account for different units between columns, some might be less or more important. The reason for normalizing the data is to prevent treating differences in each column the same. For instance if we had took lets say mpg and disp, displacement has a wider range and so it would make a difference in mpg seem less significant. I would expect displacement to hold the most influence of the four columns of data. "
   ]
  },
  {
   "cell_type": "markdown",
   "metadata": {},
   "source": [
    "## Part B) K-means and Normalization: First Clusters \n",
    "\n",
    "Now do initial, unnormalized clustering for $k=3$.  Save the final cluster for each point.  Plot the final clusters on an `mpg` versus `disp` axis."
   ]
  },
  {
   "cell_type": "code",
   "execution_count": 12,
   "metadata": {},
   "outputs": [],
   "source": [
    "#before we start\n",
    "def dist(x1, x2):\n",
    "    return np.sqrt(np.sum((x1-x2)**2)) #2-d euclidean distance\n",
    "columns =['mpg','disp','wt','qsec']\n",
    "cars_new=cars.loc[:,columns].copy()\n",
    "X= cars_new.to_numpy()\n",
    "#cars_new.head(50)\n",
    "#print(dist(np.array([2,3,4,2]),np.array([1,-2,1,3]))) -answer should be 6 \n",
    "#print(dist(np.array([4,-2,1,3]),np.array([4,-2,1,3])))"
   ]
  },
  {
   "cell_type": "code",
   "execution_count": 13,
   "metadata": {},
   "outputs": [],
   "source": [
    "def visualize(X,clusters,centroids):\n",
    "    fig, ax = plt.subplots(1,1, figsize=(5,5))\n",
    "    plt.scatter([x[0] for x in X], [x[1] for x in X], c=clusters)\n",
    "    plt.scatter([x[0] for x in centroids], [x[1] for x in centroids], c='red', marker='+')\n",
    "    plt.xlabel(\"mpg\")\n",
    "    plt.ylabel(\"disp\")\n",
    "    plt.show()"
   ]
  },
  {
   "cell_type": "code",
   "execution_count": 14,
   "metadata": {},
   "outputs": [
    {
     "name": "stdout",
     "output_type": "stream",
     "text": [
      "Initial Visualization\n"
     ]
    },
    {
     "data": {
      "image/png": "[encoded data removed]",
      "text/plain": [
       "<Figure size 360x360 with 1 Axes>"
      ]
     },
     "metadata": {
      "needs_background": "light"
     },
     "output_type": "display_data"
    },
    {
     "name": "stdout",
     "output_type": "stream",
     "text": [
      "Centroids Locations\n",
      "[[ 29.53333333  84.6          1.903       18.71666667]\n",
      " [ 21.48       144.91         2.887       18.439     ]\n",
      " [ 15.68125    339.15         3.9165      17.154375  ]]\n",
      "Resulting Visualization\n"
     ]
    },
    {
     "data": {
      "image/png": "[encoded data removed]",
      "text/plain": [
       "<Figure size 360x360 with 1 Axes>"
      ]
     },
     "metadata": {
      "needs_background": "light"
     },
     "output_type": "display_data"
    },
    {
     "name": "stdout",
     "output_type": "stream",
     "text": [
      "Centroids Locations\n",
      "[[ 29.53333333  84.6          1.903       18.71666667]\n",
      " [ 21.17272727 152.19090909   2.93909091  18.60090909]\n",
      " [ 15.52       346.76         3.94693333  16.95      ]]\n"
     ]
    }
   ],
   "source": [
    "def kMean(k,cars,debug,vis):\n",
    "    #Initialization\n",
    "    ############################################################\n",
    "    #k = 3\n",
    "    X= cars.to_numpy() #make it ndarray\n",
    "    \n",
    "    #pick randomly k points to be centroids Im lazy\n",
    "    centroidIndex = np.random.choice(len(cars), k, replace=False)#grab a random non repeating index\n",
    "\n",
    "    #grab the centroids\n",
    "    centroids = np.array(cars.iloc[centroidIndex,:])\n",
    "    \n",
    "    if(debug):\n",
    "        #print(X[0]) #sanity check\n",
    "        #print(centroidIndex)\n",
    "        print(centroids)\n",
    "        \n",
    "    dists = [-1]*k\n",
    "    clusters = np.array([-1]*len(X))\n",
    "    ############################################################\n",
    "    firstVis =True\n",
    "    clustersStoppedChanging =True\n",
    "    ultDist =1 #distance btw clusters\n",
    "    while((ultDist>0.0) or clustersStoppedChanging):\n",
    "    #for _ in range(1000): #100 steps is fine; or a tolerance/change check.\n",
    "        #update classifications\n",
    "        \n",
    "        for j in range(len(X)):\n",
    "            dists = [dist(X[j], cent) for cent in centroids]\n",
    "            \n",
    "            assignment = dists.index(min(dists))\n",
    "            \n",
    "            #finish later-------------------------------------------------------if want conditional\n",
    "            for l in range(len(centroids)):\n",
    "                \n",
    "                if(clusters[l] != assignment):\n",
    "                #    print(\"hi\")\n",
    "                    clustersStoppedChanging = False\n",
    "            clusters[j] = assignment\n",
    "            \n",
    "        #print(clusters)\n",
    "        \n",
    "        #-----------------------------------note just make copy of centroids here\n",
    "        #update centroids\n",
    "        prevCentroids = centroids.copy()\n",
    "        for j in range(k):\n",
    "            #prevCentroids[j] = centroids[j]\n",
    "            centroids[j]=[np.sum(X[clusters==j,0])/len(X[clusters==j,0]),np.sum(X[clusters==j,1])/len(X[clusters==j,1]),np.sum(X[clusters==j,2])/len(X[clusters==j,2]),np.sum(X[clusters==j,3])/len(X[clusters==j,3])]\n",
    "        if(debug):\n",
    "            print(prevCentroids)\n",
    "            print(\"++++++\")\n",
    "            print(centroids)\n",
    "            \n",
    "        ultDist = dist(prevCentroids,centroids)\n",
    "        \n",
    "        if((firstVis) and (vis)):\n",
    "            print(\"Initial Visualization\")\n",
    "            visualize(X,clusters,centroids)\n",
    "            print(\"Centroids Locations\")\n",
    "            print(centroids)\n",
    "            firstVis =False\n",
    "        \n",
    "        #print(clustersStoppedChanging)\n",
    "        #if(clustersStoppedChanging):\n",
    "        #    print(\"Wooo\")\n",
    "        #    #break\n",
    "        \n",
    "    #visualization\n",
    "    if(vis):\n",
    "        print(\"Resulting Visualization\")\n",
    "        visualize(X,clusters,centroids)\n",
    "        print(\"Centroids Locations\")\n",
    "        print(centroids)\n",
    "    return clusters,centroids\n",
    "clusters_notNormalized,c_un = kMean(3,cars_new,False,True)"
   ]
  },
  {
   "cell_type": "markdown",
   "metadata": {},
   "source": [
    "## Part C) K-means and Normalization: An Alternative\n",
    "\n",
    "Normalize the 4 columns being used by replacing each with their Box-Muller transformation (for each column, subtract the mean of that column then divide by its standard deviation).  Repeat your clustering for $k=3$, again saving the final cluster for each point.  Plot the final clusters on an `mpg` versus `disp` axis.\n",
    "\n",
    "Then answer: do the clusterings look different?"
   ]
  },
  {
   "cell_type": "code",
   "execution_count": 15,
   "metadata": {},
   "outputs": [
    {
     "data": {
      "text/html": [
       "<div>\n",
       "<style scoped>\n",
       "    .dataframe tbody tr th:only-of-type {\n",
       "        vertical-align: middle;\n",
       "    }\n",
       "\n",
       "    .dataframe tbody tr th {\n",
       "        vertical-align: top;\n",
       "    }\n",
       "\n",
       "    .dataframe thead th {\n",
       "        text-align: right;\n",
       "    }\n",
       "</style>\n",
       "<table border=\"1\" class=\"dataframe\">\n",
       "  <thead>\n",
       "    <tr style=\"text-align: right;\">\n",
       "      <th></th>\n",
       "      <th>mpg</th>\n",
       "      <th>disp</th>\n",
       "      <th>wt</th>\n",
       "      <th>qsec</th>\n",
       "    </tr>\n",
       "  </thead>\n",
       "  <tbody>\n",
       "    <tr>\n",
       "      <td>Mazda RX4</td>\n",
       "      <td>0.150885</td>\n",
       "      <td>-0.570620</td>\n",
       "      <td>-0.610400</td>\n",
       "      <td>-0.777165</td>\n",
       "    </tr>\n",
       "    <tr>\n",
       "      <td>Mazda RX4 Wag</td>\n",
       "      <td>0.150885</td>\n",
       "      <td>-0.570620</td>\n",
       "      <td>-0.349785</td>\n",
       "      <td>-0.463781</td>\n",
       "    </tr>\n",
       "    <tr>\n",
       "      <td>Datsun 710</td>\n",
       "      <td>0.449543</td>\n",
       "      <td>-0.990182</td>\n",
       "      <td>-0.917005</td>\n",
       "      <td>0.426007</td>\n",
       "    </tr>\n",
       "    <tr>\n",
       "      <td>Hornet 4 Drive</td>\n",
       "      <td>0.217253</td>\n",
       "      <td>0.220094</td>\n",
       "      <td>-0.002300</td>\n",
       "      <td>0.890487</td>\n",
       "    </tr>\n",
       "    <tr>\n",
       "      <td>Hornet Sportabout</td>\n",
       "      <td>-0.230735</td>\n",
       "      <td>1.043081</td>\n",
       "      <td>0.227654</td>\n",
       "      <td>-0.463781</td>\n",
       "    </tr>\n",
       "  </tbody>\n",
       "</table>\n",
       "</div>"
      ],
      "text/plain": [
       "                        mpg      disp        wt      qsec\n",
       "Mazda RX4          0.150885 -0.570620 -0.610400 -0.777165\n",
       "Mazda RX4 Wag      0.150885 -0.570620 -0.349785 -0.463781\n",
       "Datsun 710         0.449543 -0.990182 -0.917005  0.426007\n",
       "Hornet 4 Drive     0.217253  0.220094 -0.002300  0.890487\n",
       "Hornet Sportabout -0.230735  1.043081  0.227654 -0.463781"
      ]
     },
     "execution_count": 15,
     "metadata": {},
     "output_type": "execute_result"
    }
   ],
   "source": [
    "cars_normalized = cars_new.copy()\n",
    "for i in range(len(columns)):\n",
    "    \n",
    "    normCol = cars_new.loc[:,columns[i]].copy()\n",
    "    mean = np.mean(X[:,i])\n",
    "    std =np.sqrt(np.var(X[:,i],ddof=1))\n",
    "    \n",
    "    for j in range(len(normCol)):\n",
    "        normCol[j] = (normCol[j] - mean)/std\n",
    "    cars_normalized[columns[i]] = normCol\n",
    "    \n",
    "    #print(normCol)\n",
    "\n",
    "cars_normalized.head()"
   ]
  },
  {
   "cell_type": "code",
   "execution_count": 16,
   "metadata": {},
   "outputs": [
    {
     "name": "stdout",
     "output_type": "stream",
     "text": [
      "Initial Visualization\n"
     ]
    },
    {
     "data": {
      "image/png": "[encoded data removed]",
      "text/plain": [
       "<Figure size 360x360 with 1 Axes>"
      ]
     },
     "metadata": {
      "needs_background": "light"
     },
     "output_type": "display_data"
    },
    {
     "name": "stdout",
     "output_type": "stream",
     "text": [
      "Centroids Locations\n",
      "[[ 0.34638358 -0.4218436  -0.34787454  0.35325688]\n",
      " [-1.06448985  1.71276716  1.78725198 -0.15739168]\n",
      " [-0.74177261  0.57026682  0.17042131 -1.49906832]]\n",
      "Resulting Visualization\n"
     ]
    },
    {
     "data": {
      "image/png": "[encoded data removed]",
      "text/plain": [
       "<Figure size 360x360 with 1 Axes>"
      ]
     },
     "metadata": {
      "needs_background": "light"
     },
     "output_type": "display_data"
    },
    {
     "name": "stdout",
     "output_type": "stream",
     "text": [
      "Centroids Locations\n",
      "[[ 0.68573752 -0.77247483 -0.63126074  0.57348179]\n",
      " [-1.37006186  1.82841574  2.16914561 -0.06085812]\n",
      " [-0.62894602  0.63723542  0.35199964 -0.79721801]]\n"
     ]
    }
   ],
   "source": [
    "clusters_Normalized,c_n =  kMean(3,cars_normalized,False,True)"
   ]
  },
  {
   "cell_type": "markdown",
   "metadata": {},
   "source": [
    "\n",
    "\n",
    "## Part D) The Rand Statistic\n",
    "We need to formalize wheter or not normalizing actually mattered, which requires a measurement of whether or not two clusterings are actually different from one another! \n",
    "\n",
    "To do this we are going to use the Rand statistic, with documentation here: \n",
    "\n",
    "https://scikit-learn.org/stable/modules/generated/sklearn.metrics.adjusted_rand_score.html\n",
    "\n",
    "Use the `adjusted_rand_score` metric loaded below and compare the two clusterings from parts A and B."
   ]
  },
  {
   "cell_type": "code",
   "execution_count": 17,
   "metadata": {},
   "outputs": [
    {
     "name": "stdout",
     "output_type": "stream",
     "text": [
      "1.0\n",
      "-0.49999999999999994\n",
      "0.3881264456437934\n"
     ]
    }
   ],
   "source": [
    "from sklearn.metrics.cluster import adjusted_rand_score\n",
    "print(adjusted_rand_score([1, 0, 1], [0,1,0])) #example that's actually the same assignments!\n",
    "print(adjusted_rand_score([1, 0, 1], [0,0,1])) #example: Rand score is negative if very different\n",
    "\n",
    "#How do your clusters compare?\n",
    "print(adjusted_rand_score(clusters_Normalized, clusters_notNormalized)) "
   ]
  },
  {
   "cell_type": "markdown",
   "metadata": {},
   "source": [
    "The two clustering seems to share resemblance as it hovers in btw $\\approx$ (.6, .7)"
   ]
  },
  {
   "cell_type": "markdown",
   "metadata": {},
   "source": [
    "\n",
    "\n",
    "## Part E) ...and then repeat.\n",
    "\n",
    "Of course, it turns out that kmeans might *also* depend on initializations, and we want to make sure that random initializations aren't affecting your clusters in parts A and B.  One way to ensure that we don't get \"unlucky\" results is to repeat our experiment with many different initializations, and then choose the \"best\" one.  A Rand statistic gives us a mechanism to do this!\n",
    "\n",
    "\n",
    "### E. i) \n",
    "Run k-means 100 times for $k=3$ on the *unnormalized* data, each with a different random initialization.\n",
    "\n",
    "In other words, perform the following operations 100 times:\n",
    "\n",
    "    1) Initialize k-means by randomly selecting `k' of your data points\n",
    "    2) Run k-means until convergence\n",
    "    3) Save the final cluster for each point\n",
    "    \n",
    "    \n",
    "A few rows of your final k=3 output might be:\n",
    "\n",
    "`dfk3.head(3)'\n",
    "\n",
    "| Point # | Run1 | Run2 | Run3 | ... | Run 100 |\n",
    "| --- | --- |\n",
    "| 1 | 1 | 2 | 1| ... | 1 |\n",
    "| 2 | 3 | 1 | 3 | ... | 3|\n",
    "| 3 | 1 | 2 | 1 | ... | 1|\n",
    "\n",
    "(so in this example, points 1 & 3 were always in the same cluster, but point 2 was elsewhere)\n",
    "\n"
   ]
  },
  {
   "cell_type": "code",
   "execution_count": 18,
   "metadata": {},
   "outputs": [],
   "source": [
    "dfk3_unorm_list =[]\n",
    "for i in range(100):\n",
    "    #print(i)\n",
    "    clust,cI = kMean(3,cars_new,False,False)\n",
    "    \n",
    "    dfk3_unorm_list.append(list(clust))\n",
    "    #print(clust)\n",
    "\n",
    "dfk3_unorm = pd.DataFrame(dfk3_unorm_list)\n",
    "dfk3_unorm = dfk3_unorm.T"
   ]
  },
  {
   "cell_type": "code",
   "execution_count": 19,
   "metadata": {},
   "outputs": [
    {
     "data": {
      "text/html": [
       "<div>\n",
       "<style scoped>\n",
       "    .dataframe tbody tr th:only-of-type {\n",
       "        vertical-align: middle;\n",
       "    }\n",
       "\n",
       "    .dataframe tbody tr th {\n",
       "        vertical-align: top;\n",
       "    }\n",
       "\n",
       "    .dataframe thead th {\n",
       "        text-align: right;\n",
       "    }\n",
       "</style>\n",
       "<table border=\"1\" class=\"dataframe\">\n",
       "  <thead>\n",
       "    <tr style=\"text-align: right;\">\n",
       "      <th></th>\n",
       "      <th>0</th>\n",
       "      <th>1</th>\n",
       "      <th>2</th>\n",
       "      <th>3</th>\n",
       "      <th>4</th>\n",
       "      <th>5</th>\n",
       "      <th>6</th>\n",
       "      <th>7</th>\n",
       "      <th>8</th>\n",
       "      <th>9</th>\n",
       "      <th>...</th>\n",
       "      <th>90</th>\n",
       "      <th>91</th>\n",
       "      <th>92</th>\n",
       "      <th>93</th>\n",
       "      <th>94</th>\n",
       "      <th>95</th>\n",
       "      <th>96</th>\n",
       "      <th>97</th>\n",
       "      <th>98</th>\n",
       "      <th>99</th>\n",
       "    </tr>\n",
       "  </thead>\n",
       "  <tbody>\n",
       "    <tr>\n",
       "      <td>0</td>\n",
       "      <td>1</td>\n",
       "      <td>1</td>\n",
       "      <td>1</td>\n",
       "      <td>0</td>\n",
       "      <td>0</td>\n",
       "      <td>2</td>\n",
       "      <td>0</td>\n",
       "      <td>1</td>\n",
       "      <td>1</td>\n",
       "      <td>2</td>\n",
       "      <td>...</td>\n",
       "      <td>0</td>\n",
       "      <td>0</td>\n",
       "      <td>0</td>\n",
       "      <td>0</td>\n",
       "      <td>1</td>\n",
       "      <td>0</td>\n",
       "      <td>2</td>\n",
       "      <td>1</td>\n",
       "      <td>1</td>\n",
       "      <td>2</td>\n",
       "    </tr>\n",
       "    <tr>\n",
       "      <td>1</td>\n",
       "      <td>1</td>\n",
       "      <td>1</td>\n",
       "      <td>1</td>\n",
       "      <td>0</td>\n",
       "      <td>0</td>\n",
       "      <td>2</td>\n",
       "      <td>0</td>\n",
       "      <td>1</td>\n",
       "      <td>1</td>\n",
       "      <td>2</td>\n",
       "      <td>...</td>\n",
       "      <td>0</td>\n",
       "      <td>0</td>\n",
       "      <td>0</td>\n",
       "      <td>0</td>\n",
       "      <td>1</td>\n",
       "      <td>0</td>\n",
       "      <td>2</td>\n",
       "      <td>1</td>\n",
       "      <td>1</td>\n",
       "      <td>2</td>\n",
       "    </tr>\n",
       "    <tr>\n",
       "      <td>2</td>\n",
       "      <td>1</td>\n",
       "      <td>1</td>\n",
       "      <td>0</td>\n",
       "      <td>2</td>\n",
       "      <td>1</td>\n",
       "      <td>2</td>\n",
       "      <td>0</td>\n",
       "      <td>1</td>\n",
       "      <td>1</td>\n",
       "      <td>2</td>\n",
       "      <td>...</td>\n",
       "      <td>1</td>\n",
       "      <td>0</td>\n",
       "      <td>1</td>\n",
       "      <td>0</td>\n",
       "      <td>0</td>\n",
       "      <td>1</td>\n",
       "      <td>2</td>\n",
       "      <td>2</td>\n",
       "      <td>1</td>\n",
       "      <td>0</td>\n",
       "    </tr>\n",
       "    <tr>\n",
       "      <td>3</td>\n",
       "      <td>2</td>\n",
       "      <td>0</td>\n",
       "      <td>2</td>\n",
       "      <td>1</td>\n",
       "      <td>2</td>\n",
       "      <td>0</td>\n",
       "      <td>2</td>\n",
       "      <td>2</td>\n",
       "      <td>2</td>\n",
       "      <td>1</td>\n",
       "      <td>...</td>\n",
       "      <td>2</td>\n",
       "      <td>2</td>\n",
       "      <td>2</td>\n",
       "      <td>1</td>\n",
       "      <td>2</td>\n",
       "      <td>2</td>\n",
       "      <td>1</td>\n",
       "      <td>0</td>\n",
       "      <td>2</td>\n",
       "      <td>1</td>\n",
       "    </tr>\n",
       "    <tr>\n",
       "      <td>4</td>\n",
       "      <td>0</td>\n",
       "      <td>2</td>\n",
       "      <td>2</td>\n",
       "      <td>1</td>\n",
       "      <td>2</td>\n",
       "      <td>1</td>\n",
       "      <td>1</td>\n",
       "      <td>2</td>\n",
       "      <td>2</td>\n",
       "      <td>0</td>\n",
       "      <td>...</td>\n",
       "      <td>2</td>\n",
       "      <td>2</td>\n",
       "      <td>2</td>\n",
       "      <td>2</td>\n",
       "      <td>2</td>\n",
       "      <td>2</td>\n",
       "      <td>1</td>\n",
       "      <td>0</td>\n",
       "      <td>2</td>\n",
       "      <td>1</td>\n",
       "    </tr>\n",
       "  </tbody>\n",
       "</table>\n",
       "<p>5 rows × 100 columns</p>\n",
       "</div>"
      ],
      "text/plain": [
       "   0   1   2   3   4   5   6   7   8   9   ...  90  91  92  93  94  95  96  \\\n",
       "0   1   1   1   0   0   2   0   1   1   2  ...   0   0   0   0   1   0   2   \n",
       "1   1   1   1   0   0   2   0   1   1   2  ...   0   0   0   0   1   0   2   \n",
       "2   1   1   0   2   1   2   0   1   1   2  ...   1   0   1   0   0   1   2   \n",
       "3   2   0   2   1   2   0   2   2   2   1  ...   2   2   2   1   2   2   1   \n",
       "4   0   2   2   1   2   1   1   2   2   0  ...   2   2   2   2   2   2   1   \n",
       "\n",
       "   97  98  99  \n",
       "0   1   1   2  \n",
       "1   1   1   2  \n",
       "2   2   1   0  \n",
       "3   0   2   1  \n",
       "4   0   2   1  \n",
       "\n",
       "[5 rows x 100 columns]"
      ]
     },
     "execution_count": 19,
     "metadata": {},
     "output_type": "execute_result"
    }
   ],
   "source": [
    "dfk3_unorm.head(5)"
   ]
  },
  {
   "cell_type": "markdown",
   "metadata": {},
   "source": [
    "### E. ii) \n",
    "Run k-means 100 times for $k=3$ on the *normalized* data, each with a different random initialization.  Save the results in another data frame."
   ]
  },
  {
   "cell_type": "code",
   "execution_count": 20,
   "metadata": {},
   "outputs": [
    {
     "data": {
      "text/html": [
       "<div>\n",
       "<style scoped>\n",
       "    .dataframe tbody tr th:only-of-type {\n",
       "        vertical-align: middle;\n",
       "    }\n",
       "\n",
       "    .dataframe tbody tr th {\n",
       "        vertical-align: top;\n",
       "    }\n",
       "\n",
       "    .dataframe thead th {\n",
       "        text-align: right;\n",
       "    }\n",
       "</style>\n",
       "<table border=\"1\" class=\"dataframe\">\n",
       "  <thead>\n",
       "    <tr style=\"text-align: right;\">\n",
       "      <th></th>\n",
       "      <th>0</th>\n",
       "      <th>1</th>\n",
       "      <th>2</th>\n",
       "      <th>3</th>\n",
       "      <th>4</th>\n",
       "      <th>5</th>\n",
       "      <th>6</th>\n",
       "      <th>7</th>\n",
       "      <th>8</th>\n",
       "      <th>9</th>\n",
       "      <th>...</th>\n",
       "      <th>90</th>\n",
       "      <th>91</th>\n",
       "      <th>92</th>\n",
       "      <th>93</th>\n",
       "      <th>94</th>\n",
       "      <th>95</th>\n",
       "      <th>96</th>\n",
       "      <th>97</th>\n",
       "      <th>98</th>\n",
       "      <th>99</th>\n",
       "    </tr>\n",
       "  </thead>\n",
       "  <tbody>\n",
       "    <tr>\n",
       "      <td>0</td>\n",
       "      <td>1</td>\n",
       "      <td>2</td>\n",
       "      <td>2</td>\n",
       "      <td>1</td>\n",
       "      <td>0</td>\n",
       "      <td>1</td>\n",
       "      <td>0</td>\n",
       "      <td>2</td>\n",
       "      <td>1</td>\n",
       "      <td>2</td>\n",
       "      <td>...</td>\n",
       "      <td>0</td>\n",
       "      <td>2</td>\n",
       "      <td>0</td>\n",
       "      <td>2</td>\n",
       "      <td>0</td>\n",
       "      <td>2</td>\n",
       "      <td>0</td>\n",
       "      <td>1</td>\n",
       "      <td>0</td>\n",
       "      <td>0</td>\n",
       "    </tr>\n",
       "    <tr>\n",
       "      <td>1</td>\n",
       "      <td>1</td>\n",
       "      <td>2</td>\n",
       "      <td>2</td>\n",
       "      <td>1</td>\n",
       "      <td>0</td>\n",
       "      <td>1</td>\n",
       "      <td>0</td>\n",
       "      <td>2</td>\n",
       "      <td>1</td>\n",
       "      <td>2</td>\n",
       "      <td>...</td>\n",
       "      <td>0</td>\n",
       "      <td>2</td>\n",
       "      <td>0</td>\n",
       "      <td>2</td>\n",
       "      <td>0</td>\n",
       "      <td>2</td>\n",
       "      <td>0</td>\n",
       "      <td>1</td>\n",
       "      <td>0</td>\n",
       "      <td>0</td>\n",
       "    </tr>\n",
       "    <tr>\n",
       "      <td>2</td>\n",
       "      <td>2</td>\n",
       "      <td>0</td>\n",
       "      <td>2</td>\n",
       "      <td>1</td>\n",
       "      <td>0</td>\n",
       "      <td>2</td>\n",
       "      <td>0</td>\n",
       "      <td>2</td>\n",
       "      <td>1</td>\n",
       "      <td>0</td>\n",
       "      <td>...</td>\n",
       "      <td>0</td>\n",
       "      <td>2</td>\n",
       "      <td>0</td>\n",
       "      <td>1</td>\n",
       "      <td>0</td>\n",
       "      <td>1</td>\n",
       "      <td>1</td>\n",
       "      <td>1</td>\n",
       "      <td>0</td>\n",
       "      <td>0</td>\n",
       "    </tr>\n",
       "    <tr>\n",
       "      <td>3</td>\n",
       "      <td>1</td>\n",
       "      <td>1</td>\n",
       "      <td>2</td>\n",
       "      <td>0</td>\n",
       "      <td>0</td>\n",
       "      <td>1</td>\n",
       "      <td>0</td>\n",
       "      <td>1</td>\n",
       "      <td>1</td>\n",
       "      <td>2</td>\n",
       "      <td>...</td>\n",
       "      <td>1</td>\n",
       "      <td>2</td>\n",
       "      <td>0</td>\n",
       "      <td>1</td>\n",
       "      <td>0</td>\n",
       "      <td>1</td>\n",
       "      <td>0</td>\n",
       "      <td>1</td>\n",
       "      <td>2</td>\n",
       "      <td>2</td>\n",
       "    </tr>\n",
       "    <tr>\n",
       "      <td>4</td>\n",
       "      <td>1</td>\n",
       "      <td>2</td>\n",
       "      <td>0</td>\n",
       "      <td>0</td>\n",
       "      <td>2</td>\n",
       "      <td>1</td>\n",
       "      <td>2</td>\n",
       "      <td>0</td>\n",
       "      <td>0</td>\n",
       "      <td>2</td>\n",
       "      <td>...</td>\n",
       "      <td>2</td>\n",
       "      <td>0</td>\n",
       "      <td>2</td>\n",
       "      <td>0</td>\n",
       "      <td>2</td>\n",
       "      <td>0</td>\n",
       "      <td>0</td>\n",
       "      <td>2</td>\n",
       "      <td>1</td>\n",
       "      <td>1</td>\n",
       "    </tr>\n",
       "  </tbody>\n",
       "</table>\n",
       "<p>5 rows × 100 columns</p>\n",
       "</div>"
      ],
      "text/plain": [
       "   0   1   2   3   4   5   6   7   8   9   ...  90  91  92  93  94  95  96  \\\n",
       "0   1   2   2   1   0   1   0   2   1   2  ...   0   2   0   2   0   2   0   \n",
       "1   1   2   2   1   0   1   0   2   1   2  ...   0   2   0   2   0   2   0   \n",
       "2   2   0   2   1   0   2   0   2   1   0  ...   0   2   0   1   0   1   1   \n",
       "3   1   1   2   0   0   1   0   1   1   2  ...   1   2   0   1   0   1   0   \n",
       "4   1   2   0   0   2   1   2   0   0   2  ...   2   0   2   0   2   0   0   \n",
       "\n",
       "   97  98  99  \n",
       "0   1   0   0  \n",
       "1   1   0   0  \n",
       "2   1   0   0  \n",
       "3   1   2   2  \n",
       "4   2   1   1  \n",
       "\n",
       "[5 rows x 100 columns]"
      ]
     },
     "execution_count": 20,
     "metadata": {},
     "output_type": "execute_result"
    }
   ],
   "source": [
    "dfk3_norm_list =[]\n",
    "dfk3_norm_list_centroids=[]\n",
    "for i in range(100):\n",
    "    clust,centroids = kMean(3,cars_normalized,False,False)\n",
    "    dfk3_norm_list.append(list(clust))\n",
    "    dfk3_norm_list_centroids.append(list(centroids))\n",
    "dfk3_norm = pd.DataFrame(dfk3_norm_list)\n",
    "dfk3_norm = dfk3_norm.T\n",
    "dfk3_norm.head()"
   ]
  },
  {
   "cell_type": "markdown",
   "metadata": {},
   "source": [
    "### E. iii) \n",
    "\n",
    "For the 100 runs on the unnormalized data, create a similarity matrix of all-pairwise Rand scores.  Select the run with the highest overall summed Rand scores as the \"most indicative run\" (note: this is actually the clustroid of the clusters, if we consider Rand similarity an approximate distance!).\n"
   ]
  },
  {
   "cell_type": "code",
   "execution_count": 21,
   "metadata": {},
   "outputs": [
    {
     "name": "stdout",
     "output_type": "stream",
     "text": [
      "Most indicative run has index of: 7\n"
     ]
    }
   ],
   "source": [
    "simMatrix_unorm_list = []\n",
    "runSummedScore_unorm=[]\n",
    "for i in range(100):\n",
    "    k1 = dfk3_unorm[i].values\n",
    "    #print(k1)\n",
    "    k1simArr = []\n",
    "    count=0\n",
    "    for j in range(100):\n",
    "        k2 = dfk3_unorm[j].values\n",
    "        ars= adjusted_rand_score(k1, k2)\n",
    "        k1simArr.append(ars)\n",
    "        count+=ars\n",
    "        #print(ars)\n",
    "    runSummedScore_unorm.append(count)\n",
    "    simMatrix_unorm_list.append(k1simArr)\n",
    "simMatrix_unorm= np.array(simMatrix_unorm_list)\n",
    "unormIndex = runSummedScore_unorm.index(np.max(runSummedScore_unorm))\n",
    "print(\"Most indicative run has index of: \" +str(unormIndex))"
   ]
  },
  {
   "cell_type": "markdown",
   "metadata": {},
   "source": [
    "\n",
    "### E. iv) \n",
    "\n",
    "For the 100 runs on the normalized data, create a similarity matrix of all-pairwise Rand scores.  Select the run with the highest overall summed Rand scores as the \"most indicative run\" (note: this is actually the clustroid of the clusters, if we consider Rand similarity an approximate distance!).\n",
    "\n"
   ]
  },
  {
   "cell_type": "code",
   "execution_count": 22,
   "metadata": {},
   "outputs": [
    {
     "name": "stdout",
     "output_type": "stream",
     "text": [
      "Most indicative run has index of: 8\n"
     ]
    }
   ],
   "source": [
    "simMatrix_norm_list = []\n",
    "runSummedScore_norm=[]\n",
    "for i in range(100):\n",
    "    k1 = dfk3_norm[i].values\n",
    "    #print(k1)\n",
    "    k1simArr = []\n",
    "    count=0\n",
    "    for j in range(100):\n",
    "        k2 = dfk3_norm[j].values\n",
    "        ars= adjusted_rand_score(k1, k2)\n",
    "        k1simArr.append(ars)\n",
    "        count+=ars\n",
    "        #print(ars)\n",
    "    runSummedScore_norm.append(count)\n",
    "    simMatrix_norm_list.append(k1simArr)\n",
    "simMatrix_norm= np.array(simMatrix_norm_list)\n",
    "finalIndex=runSummedScore_norm.index(np.max(runSummedScore_norm))\n",
    "print(\"Most indicative run has index of: \" +str(finalIndex))"
   ]
  },
  {
   "cell_type": "markdown",
   "metadata": {},
   "source": [
    "### E. v)  \n",
    "\n",
    "Compare the two runs selected by parts E.iii and E.iv.  Are they identical, or can we definititely say that normalization effects the clustering in this problem?\n"
   ]
  },
  {
   "cell_type": "code",
   "execution_count": 23,
   "metadata": {},
   "outputs": [
    {
     "name": "stdout",
     "output_type": "stream",
     "text": [
      "E.iii : \n",
      "[1, 1, 1, 2, 2, 2, 2, 1, 1, 1, 1, 2, 2, 2, 0, 0, 0, 1, 1, 1, 1, 2, 2, 2, 0, 1, 1, 1, 2, 1, 2, 1]\n",
      "E.iv : \n",
      "[1, 1, 1, 1, 0, 1, 0, 1, 1, 1, 1, 0, 0, 0, 0, 0, 0, 2, 2, 2, 1, 0, 0, 0, 0, 2, 2, 2, 0, 1, 0, 1]\n"
     ]
    }
   ],
   "source": [
    "unorm1=dfk3_unorm_list[finalIndex]\n",
    "norm1 = dfk3_norm_list[finalIndex]\n",
    "print(\"E.iii : \")\n",
    "print(unorm1)\n",
    "print(\"E.iv : \")\n",
    "print(norm1)"
   ]
  },
  {
   "cell_type": "markdown",
   "metadata": {},
   "source": [
    "They have some similarity but are not the same. Hence, we can say that normalizatin effects the clustering in this problem."
   ]
  },
  {
   "cell_type": "markdown",
   "metadata": {},
   "source": [
    "## Part F) Visualize\n",
    "Plot the best $k=3$ cluster resulting from clustering the *normalized* data, but use the original data scale in the plot.  Use mpg versus displacement for the axes.  Color the clusters, and label each point with the car name."
   ]
  },
  {
   "cell_type": "code",
   "execution_count": 34,
   "metadata": {},
   "outputs": [
    {
     "data": {
      "image/png": "[encoded data removed]",
      "text/plain": [
       "<Figure size 360x360 with 1 Axes>"
      ]
     },
     "metadata": {
      "needs_background": "light"
     },
     "output_type": "display_data"
    }
   ],
   "source": [
    "#visualize(cars_normalized.toNumpy(),clusters,dfk3_norm_list_centroids[finalIndex])\n",
    "Z = cars_new.to_numpy()\n",
    "labels =cars.index.values\n",
    "fig, ax = plt.subplots(1,1, figsize=(5,5))\n",
    "plt.scatter([x[0] for x in Z], [x[1] for x in Z], c=dfk3_norm_list[finalIndex])\n",
    "#plt.scatter([x[0] for x in dfk3_norm_list_centroids[finalIndex]], [x[1] for x in dfk3_norm_list_centroids[finalIndex]], c='red', marker='+')\n",
    "plt.xlabel(\"mpg\")\n",
    "plt.ylabel(\"disp\")\n",
    "for x_pos, y_pos, label in zip([x[0] for x in Z],  [x[1] for x in Z], labels):\n",
    "    ax.annotate(label,xy=(x_pos, y_pos),xytext=(-7, 8),textcoords='offset points',ha='left')       \n",
    "plt.show()"
   ]
  },
  {
   "cell_type": "markdown",
   "metadata": {},
   "source": [
    "Did not have time to making it look pretty so I'm printing it again with out labeled points."
   ]
  },
  {
   "cell_type": "code",
   "execution_count": 35,
   "metadata": {},
   "outputs": [
    {
     "data": {
      "image/png": "[encoded data removed]",
      "text/plain": [
       "<Figure size 360x360 with 1 Axes>"
      ]
     },
     "metadata": {
      "needs_background": "light"
     },
     "output_type": "display_data"
    }
   ],
   "source": [
    "Z = cars_new.to_numpy()\n",
    "labels =cars.index.values\n",
    "fig, ax = plt.subplots(1,1, figsize=(5,5))\n",
    "plt.scatter([x[0] for x in Z], [x[1] for x in Z], c=dfk3_norm_list[finalIndex])\n",
    "#plt.scatter([x[0] for x in dfk3_norm_list_centroids[finalIndex]], [x[1] for x in dfk3_norm_list_centroids[finalIndex]], c='red', marker='+')\n",
    "plt.xlabel(\"mpg\")\n",
    "plt.ylabel(\"disp\")\n",
    "plt.show()"
   ]
  },
  {
   "cell_type": "code",
   "execution_count": null,
   "metadata": {},
   "outputs": [],
   "source": []
  }
 ],
 "metadata": {
  "kernelspec": {
   "display_name": "Python 3",
   "language": "python",
   "name": "python3"
  },
  "language_info": {
   "codemirror_mode": {
    "name": "ipython",
    "version": 3
   },
   "file_extension": ".py",
   "mimetype": "text/x-python",
   "name": "python",
   "nbconvert_exporter": "python",
   "pygments_lexer": "ipython3",
   "version": "3.7.4"
  }
 },
 "nbformat": 4,
 "nbformat_minor": 2
}
