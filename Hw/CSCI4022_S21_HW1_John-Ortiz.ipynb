{
 "cells": [
  {
   "cell_type": "markdown",
   "metadata": {},
   "source": [
    "# CSCI4022 Homework 1; Review\n",
    "\n",
    "## Due Monday, February 1 at 11:59 pm to Canvas\n",
    "\n",
    "#### Submit this file as a .ipynb with *all cells compiled and run* to the associated dropbox.\n",
    "\n",
    "***\n",
    "\n",
    "Your solutions to computational questions should include any specified Python code and results as well as written commentary on your conclusions.  Remember that you are encouraged to discuss the problems with your classmates, but **you must write all code and solutions on your own**.\n",
    "\n",
    "**NOTES**: \n",
    "\n",
    "- Any relevant data sets should be available on Canvas. To make life easier on the graders if they need to run your code, do not change the relative path names here. Instead, move the files around on your computer.\n",
    "- If you're not familiar with typesetting math directly into Markdown then by all means, do your work on paper first and then typeset it later.  Here is a [reference guide](https://math.meta.stackexchange.com/questions/5020/mathjax-basic-tutorial-and-quick-reference) linked on Canvas on writing math in Markdown. **All** of your written commentary, justifications and mathematical work should be in Markdown.  I also recommend the [wikibook](https://en.wikibooks.org/wiki/LaTeX) for LaTex.\n",
    "- Because you can technically evaluate notebook cells is a non-linear order, it's a good idea to do **Kernel $\\rightarrow$ Restart & Run All** as a check before submitting your solutions.  That way if we need to run your code you will know that it will work as expected. \n",
    "- It is **bad form** to make your reader interpret numerical output from your code.  If a question asks you to compute some value from the data you should show your code output **AND** write a summary of the results in Markdown directly below your code. \n",
    "- 45 points of this assignment are in problems.  The remaining 5 are for neatness, style, and overall exposition of both code and text.\n",
    "- This probably goes without saying, but... For any question that asks you to calculate something, you **must show all work and justify your answers to receive credit**. Sparse or nonexistent work will receive sparse or nonexistent credit. \n",
    "- There is *not a prescribed API* for these problems.  You may answer coding questions with whatever syntax or object typing you deem fit.  Your evaluation will primarily live in the clarity of how well you present your final results, so don't skip over any interpretations!  Your code should still be commented and readable to ensure you followed the given course algorithm.\n",
    "\n",
    "---"
   ]
  },
  {
   "cell_type": "code",
   "execution_count": 1,
   "metadata": {},
   "outputs": [],
   "source": [
    "import matplotlib.pyplot as plt\n",
    "import numpy as np\n",
    "import pandas as pd\n",
    "import random\n",
    "import seaborn as sns"
   ]
  },
  {
   "cell_type": "markdown",
   "metadata": {},
   "source": [
    "## Problem 1 (Numerics... kind of; 15 points)\n",
    "\n",
    "####  a) Solve for $b$ in the matrix-vector product $$\\begin{bmatrix}a_1 & a_2 \\\\ a_3 & a_4\\end{bmatrix} \\cdot \\begin{bmatrix}x_1\\\\ x_2\\end{bmatrix}=b.$$\n",
    "\n",
    "####  How many computations does this take, if each multiplication and addition is counted as a separate computation?  \n",
    "\n",
    " #### What about for\n",
    "\n",
    "$$\\begin{bmatrix}a_1 & a_2 &a_3 \\\\ a_4 & a_5 &a_6 \\\\ a_7&a_8&a_9 \\end{bmatrix} \\cdot \\begin{bmatrix}x_1\\\\ x_2\\\\x_3\\end{bmatrix}=b?$$\n",
    "\n",
    "Use the following markdown cell to show all work in computing the exact answer.\n"
   ]
  },
  {
   "cell_type": "markdown",
   "metadata": {},
   "source": [
    "i) $$b= \\begin{bmatrix}a_1 & a_2 \\\\ a_3 & a_4\\end{bmatrix} \\cdot \\begin{bmatrix}x_1\\\\ x_2\\end{bmatrix}=\\begin{bmatrix}a_1 * x_1 + a_2 *x_2 \\\\ a_3 * x_1 + a_4* x_2\\end{bmatrix}$$\n",
    " Number of Computations = $\\sum (operations(+ , * )) = 6$ \n",
    " \n",
    "ii) $$b= \\begin{bmatrix}a_1 & a_2 & a_3 \\\\ a_4 & a_5 & a_6 \\\\ a_7 & a_8 & a_9\\end{bmatrix} \\cdot \\begin{bmatrix}x_1\\\\ x_2\\\\x_3\\end{bmatrix}=\\begin{bmatrix}a_1 * x_1 + a_2 * x_2 + a_3 * x_3 \\\\ a_4 * x_1 + a_5 * x_2 + a_6 * x_3 \\\\ a_7 * x_1 + a_8 * x_2 + a_9 * x_3 \\end{bmatrix}$$\n",
    " Number of Computations = $\\sum (operations(+ , * )) = 15$ \n"
   ]
  },
  {
   "cell_type": "markdown",
   "metadata": {},
   "source": [
    "\n",
    "####  b) How many computations does matrix-vector computation take if the matrix $A$ is a square $n \\times n$ matrix and the vector $x$ is $n \\times 1$? \n",
    "\n",
    "Visually:\n",
    "\n",
    "$$\\begin{bmatrix} \n",
    "    a_{11} & a_{12} & \\dots \\\\\n",
    "    \\vdots & \\ddots & \\\\\n",
    "    a_{n1} &        & a_{nn} \n",
    "    \\end{bmatrix}  \\cdot \\begin{bmatrix}x_1\\\\ \\vdots \\\\x_n\\end{bmatrix}=b$$\n",
    "\n",
    "Use the following markdown cell to show all work in computing the exact answer.\n"
   ]
  },
  {
   "cell_type": "markdown",
   "metadata": {},
   "source": [
    "For each row there will be n-1 additions and n multiplications\n",
    "Rows are defined by rows of A, which in this case is n...\n",
    "Hence the total amount of operations $ = \\sum_{i=0}^n ((n-1)+ n)  = n\\times (2n-1) = 2n^2 -n \\approx \\Theta(n^{2})$"
   ]
  },
  {
   "cell_type": "markdown",
   "metadata": {},
   "source": [
    "#### c) How many computations does square matrix-matrix multiplication take if each matrix is $n \\times n$? \n",
    "\n",
    "For example:\n",
    "\n",
    "$$\\begin{bmatrix} \n",
    "    a_{11} & a_{12} & \\dots \\\\\n",
    "    \\vdots & \\ddots & \\\\\n",
    "    a_{n1} &        & a_{nn} \n",
    "    \\end{bmatrix} \\cdot \n",
    "    \\begin{bmatrix} \n",
    "    b_{11} & b_{12} & \\dots \\\\\n",
    "    \\vdots & \\ddots & \\\\\n",
    "    b_{n1} &        & b_{nn} \n",
    "    \\end{bmatrix}=C$$\n",
    "    \n",
    "Hint: how many computations for the entry $c_{ij}$ in row $i$, column $j$?\n",
    "\n",
    "If $n=10^4$, what number is this?"
   ]
  },
  {
   "cell_type": "markdown",
   "metadata": {},
   "source": [
    "For a single entry $c_{ij}$, would require the same operations as before (n multiplication,n-1 additions) however this time the vector is no longer $n\\times 1 \\to n\\times n $matrix. Hence the amount of elements is now $n^2$, manipulation part b calculation we can arrive at $ = \\sum_{i=0}^{n^2} ((n-1)+ n)  = n^2 \\times (2n-1) = 2n^3 -n^2 \\approx \\Theta(n^{3})$ since it needs to be computed $n^2$ times. \n",
    "\n",
    "If $n=10^4$, the total computations would be $2(10^4)^3 -(10^4)^2 = 2(10^{12})-10^8 $ "
   ]
  },
  {
   "cell_type": "markdown",
   "metadata": {},
   "source": [
    "## Problem 2 (Distances and Plots; 15 points)\n",
    "\n",
    "In this problem we will create what's known as a [*variogram*](https://en.wikipedia.org/wiki/Variogram), a plot that describes how much \"distance between inputs matters\" on a function that inputs locations and outputs some other variable of interest.  Click on the link to see what a variogram often looks like.\n",
    "\n",
    "Variograms involve similar groupings to histograms, but instead of grouping data points by their actual values, they group *distances* (Euclidean, $L_2$ norm) between data points together on the $x$ axis.\n",
    "\n",
    "We consider 4 functions.  f1 and f2 below are smooth, well defined trig functions, although one has a shorter period and larger amplitude than the other.  f3 and f4 add random noise - uniform and normal, respectively - to those first functions.\n",
    "\n",
    "Note also the given code includes a way to plot 3D data (input $x_1$, $x_2$, output $f(x_1,x_2)$) in python as a heat map."
   ]
  },
  {
   "cell_type": "code",
   "execution_count": 2,
   "metadata": {},
   "outputs": [],
   "source": [
    "x = np.linspace(0, 1, 20)\n",
    "y = np.linspace(0, 1, 20)\n",
    "X, Y = np.meshgrid(x, y)\n",
    "\n",
    "def f1(x, y):\n",
    "    return np.sin(7*x+7)+3*np.sin(6*y)\n",
    "Z1 = f1(X, Y)\n",
    "\n",
    "def f2(x, y):\n",
    "    return np.sin(10*x)+np.cos(10*y)\n",
    "Z2 = f2(X, Y)\n",
    "random.seed(4022)\n",
    "Z3=Z1+(np.random.rand(20, 20))\n",
    "Z4=Z2+(np.random.normal(0, 1, size=(20,20)))"
   ]
  },
  {
   "cell_type": "code",
   "execution_count": 3,
   "metadata": {
    "scrolled": true
   },
   "outputs": [
    {
     "data": {
      "text/plain": [
       "Text(0.5, 1.0, 'Function 4: 2 plus normals')"
      ]
     },
     "execution_count": 3,
     "metadata": {},
     "output_type": "execute_result"
    },
    {
     "data": {
      "image/png": "[encoded data removed]",
      "text/plain": [
       "<Figure size 1080x720 with 8 Axes>"
      ]
     },
     "metadata": {
      "needs_background": "light"
     },
     "output_type": "display_data"
    }
   ],
   "source": [
    "fig, axs = plt.subplots(2, 2,figsize=(15,10))\n",
    "sns.heatmap(Z1, ax=axs[0,0])\n",
    "axs[0,0].set_title('Function 1: long period')\n",
    "sns.heatmap(Z2, ax=axs[0,1])\n",
    "axs[0,1].set_title('Function 2: shorter period')\n",
    "sns.heatmap(Z3, ax=axs[1,0])\n",
    "axs[1,0].set_title('Function 3: 1 plus uniforms')\n",
    "sns.heatmap(Z4, ax=axs[1,1])\n",
    "axs[1,1].set_title('Function 4: 2 plus normals')"
   ]
  },
  {
   "cell_type": "markdown",
   "metadata": {},
   "source": [
    "### Creating your own Variogram\n",
    "\n",
    "For each of the 4 data sets, perform the following calculations, then create a 2x2 plot corresponding to the figure above where you depict the *variograms* of the 4 data sets.\n",
    "\n",
    "##### a) Calculate all pairwise distances\n",
    "\n",
    "Suppose we have a function $f$.  To create a variogram of $f$ given a set of observations,\n",
    "\n",
    "- Take each and every pair of distinct data values $x=(x_1,x_2)$ and $y=(y_1,y_2)$, and computes the distance between those inputs $d((x_1, x_2), (y_1, y_2))$ and the squared distance between their outputs, $(f(x)-f(y))^2$.  If we had $n$ total data points there are $\\binom{n}{2}$ such pairs.\n",
    "\n",
    "Starting with the given code, you can get this by creating tuples out of the `X` and `Y` arrays.\n",
    "\n",
    "Note that your distance matrix might be as large as $400\\times 400$ for the given problem, although you may only need to fill around half of it due to its symmetry.\n",
    "\n",
    "NB: You may also choose to create a numpy array of distances instead of a matrix if you prefer!\n",
    "\n",
    "You should also calculate all pairwise squared deviations $(f(x)-f(y))^2$ in the same or a similar structure to your distance object."
   ]
  },
  {
   "cell_type": "code",
   "execution_count": 4,
   "metadata": {},
   "outputs": [],
   "source": [
    "coordMatrix=[]\n",
    "for i in range(len(X)):\n",
    "    test = tuple(zip(X[i], Y[i]))\n",
    "    coordMatrix.append(test)\n",
    "#print(np.array(coordMatrix))\n",
    "\n",
    "def dist_funct(p1,p2):\n",
    "    #np.sqrt(np.sum())\n",
    "    #print(p1[0])\n",
    "    #print(p2[0])\n",
    "    r1=(p1[1]-p1[0])**2\n",
    "    r2=(p2[1]-p2[0])**2\n",
    "    return np.sqrt(r1+r2)"
   ]
  },
  {
   "cell_type": "code",
   "execution_count": 5,
   "metadata": {},
   "outputs": [],
   "source": [
    "def deviate2(i1,j1,i2,j2,fun):\n",
    "    #i1 = int(p1Index/20)\n",
    "    #j1 = p1Index%20\n",
    "    #i2 = int(p2Index/20)\n",
    "    #j2 = p2Index%20\n",
    "    if(fun ==1):\n",
    "        #z1\n",
    "        z1= Z1[i1][j1]\n",
    "        z2= Z1[i2][j2]\n",
    "        return (z2-z1)**2\n",
    "    elif(fun == 2):\n",
    "        #z2\n",
    "        z1= Z2[i1][j1]\n",
    "        z2= Z2[i2][j2]\n",
    "        return (z2-z1)**2\n",
    "    elif(fun == 3):\n",
    "        #z3\n",
    "        z1= Z3[i1][j1]\n",
    "        z2= Z3[i2][j2]\n",
    "        return (z2-z1)**2\n",
    "    elif(fun == 4):\n",
    "        #z4\n",
    "        z1= Z4[i1][j1]\n",
    "        z2= Z4[i2][j2]\n",
    "        return (z2-z1)**2\n",
    "    else:\n",
    "        print(\"nooooooooooooooo\")"
   ]
  },
  {
   "cell_type": "code",
   "execution_count": 6,
   "metadata": {},
   "outputs": [
    {
     "name": "stdout",
     "output_type": "stream",
     "text": [
      "Amount of pairs of combinations:159600\n"
     ]
    }
   ],
   "source": [
    "#lets make a copy of distance Matrix we will use to fill up with distance\n",
    "#distanceMatrix_f1 = coordMatrix.copy()\n",
    "distanceMatrix = []\n",
    "#for each function\n",
    "devMatrix_f1 = []\n",
    "devMatrix_f2 = []\n",
    "devMatrix_f3 = []\n",
    "devMatrix_f4 = []\n",
    "count=0\n",
    "\n",
    "for i in range(len(coordMatrix)):\n",
    "    distanceArr =[]\n",
    "    #for each function\n",
    "    devArr_f1 = []\n",
    "    devArr_f2 = []\n",
    "    devArr_f3 = []\n",
    "    devArr_f4 = []\n",
    "    for j in range(len(coordMatrix[i])):\n",
    "        \n",
    "        point1 = coordMatrix[i][j]\n",
    "        #now we have our first point - need to loop over every other point and call distance function on it\n",
    "        innerKL = 0\n",
    "        for k in range(len(coordMatrix)):#create loop\n",
    "            for l in range(len(coordMatrix)):\n",
    "\n",
    "                point2 = coordMatrix[k][l] #find point2\n",
    "                if(point1!=point2):\n",
    "                    #distanceList = list(distanceMatrix_f1[i][j])\n",
    "                    #distanceList[0] = dist_funct(point1,point2)\n",
    "                    #distanceMatrix_f1[i][j]= tuple(distanceList)\n",
    "                    distanceArr.append(dist_funct(point1,point2)) #call distance funct and append value to array to append to matrix\n",
    "                    #for each function\n",
    "                    devArr_f1.append(deviate2(i,j,k,l,1))\n",
    "                    devArr_f2.append(deviate2(i,j,k,l,2))\n",
    "                    devArr_f3.append(deviate2(i,j,k,l,3))\n",
    "                    devArr_f4.append(deviate2(i,j,k,l,4))\n",
    "                    count+=1\n",
    "                \n",
    "                    \n",
    "        \n",
    "    distanceMatrix.append(distanceArr)\n",
    "    #for each function\n",
    "    devMatrix_f1.append(devArr_f1)\n",
    "    devMatrix_f2.append(devArr_f2)\n",
    "    devMatrix_f3.append(devArr_f3)\n",
    "    devMatrix_f4.append(devArr_f4)\n",
    "print(\"Amount of pairs of combinations:\" +str(count))                    \n",
    "#print(np.array(distanceMatrix))  \n",
    "#print(len(distanceMatrix))\n",
    "#print(np.array(devMatrix_f1))"
   ]
  },
  {
   "cell_type": "markdown",
   "metadata": {},
   "source": [
    "##### b) bin your data by distance\n",
    "\n",
    "You should now have two lists/objects/matrices of total entires equal to $\\binom{400}{2}$.  One holds distances, the other squared differences of $f$.\n",
    "\n",
    "- Create \"bins\" as in a histogram.  Starting at $d=0$ and ending at the maximum observed distance, group each of the $(d(x,y), (f(x)-f(y))^2))$ pair into 20 total bins according to their distance.  So some points will go into the interval from $$[0, \\frac{\\max_{x,y} d(x,y)}{20}),$$ some into $$[\\frac{\\max_{x,y} d(x,y)}{20},2 \\frac{\\max_{x,y} d(x,y)}{20}),$$, and so forth."
   ]
  },
  {
   "cell_type": "code",
   "execution_count": 7,
   "metadata": {},
   "outputs": [],
   "source": [
    "#first we need to get max of distance matrix\n",
    "maxDist = np.max(distanceMatrix)\n",
    "    #print(maxDist/2)\n",
    "#partition by 20 \n",
    "stepDist = maxDist/20\n",
    "#run through every point in coordMatrix\n",
    "#print(distanceMatrix[0][0])\n",
    "\n",
    "#probably make in to function call with devMatrix_f# as parameter\n",
    "def binFunct(devMatrix):\n",
    "    #binArr =[]\n",
    "    bin1 =[]\n",
    "    bin2 =[]\n",
    "    bin3 =[]\n",
    "    bin4 =[]\n",
    "    bin5 =[]\n",
    "    bin6 =[]\n",
    "    bin7 =[]\n",
    "    bin8 =[]\n",
    "    bin9 =[]\n",
    "    bin10 =[]\n",
    "    bin11 =[]\n",
    "    bin12 =[]\n",
    "    bin13 =[]\n",
    "    bin14 =[]\n",
    "    bin15 =[]\n",
    "    bin16 =[]\n",
    "    bin17 =[]\n",
    "    bin18 =[]\n",
    "    bin19 =[]\n",
    "    bin20 =[]\n",
    "    for i in range(len(distanceMatrix)):\n",
    "        for j in range(len(distanceMatrix[i])):\n",
    "            dist = distanceMatrix[i][j]\n",
    "            #return which array it would store\n",
    "            if((dist < stepDist)and (dist>=0)):\n",
    "                #bin1\n",
    "                #grab the deviations\n",
    "                f = devMatrix[i][j]\n",
    "                bin1.append((dist,f))\n",
    "                #print(\"Im in B1\")\n",
    "            elif((dist >= stepDist)and (dist < 2*stepDist)):\n",
    "                #bin2\n",
    "                f = devMatrix[i][j]\n",
    "                bin2.append((dist,f))\n",
    "                #print(\"Im in B2\")\n",
    "            elif((dist >= 2*stepDist)and (dist < 3*stepDist)):\n",
    "                #bin3\n",
    "                f = devMatrix[i][j]\n",
    "                bin3.append((dist,f))\n",
    "                #print(\"Im in B3\")\n",
    "            elif((dist >= 3*stepDist)and (dist < 4*stepDist)):\n",
    "                #bin4\n",
    "                f = devMatrix[i][j]\n",
    "                bin4.append((dist,f))\n",
    "            elif((dist >= 4*stepDist)and (dist < 5*stepDist)):\n",
    "                #bin5\n",
    "                f = devMatrix[i][j]\n",
    "                bin5.append((dist,f))\n",
    "            elif((dist >= 5*stepDist)and (dist < 6*stepDist)):\n",
    "                #bin6\n",
    "                f = devMatrix[i][j]\n",
    "                bin6.append((dist,f))\n",
    "            elif((dist >= 6*stepDist)and (dist < 7*stepDist)):\n",
    "                #bin7\n",
    "                f = devMatrix[i][j]\n",
    "                bin7.append((dist,f))\n",
    "            elif((dist >= 7*stepDist)and (dist < 8*stepDist)):\n",
    "                #bin8\n",
    "                f = devMatrix[i][j]\n",
    "                bin8.append((dist,f))\n",
    "            elif((dist >= 8*stepDist)and (dist < 9*stepDist)):\n",
    "                #bin9\n",
    "                f = devMatrix[i][j]\n",
    "                bin9.append((dist,f))\n",
    "            elif((dist >= 9*stepDist)and (dist < 10*stepDist)):\n",
    "                #bin10\n",
    "                f = devMatrix[i][j]\n",
    "                bin10.append((dist,f))\n",
    "            elif((dist >= 10*stepDist)and (dist < 11*stepDist)):\n",
    "                #bin11\n",
    "                f = devMatrix[i][j]\n",
    "                bin11.append((dist,f))\n",
    "            elif((dist >= 11*stepDist)and (dist < 12*stepDist)):\n",
    "                #bin12\n",
    "                f = devMatrix[i][j]\n",
    "                bin12.append((dist,f))\n",
    "            elif((dist >= 12*stepDist)and (dist < 13*stepDist)):\n",
    "                #bin13\n",
    "                f = devMatrix[i][j]\n",
    "                bin13.append((dist,f))\n",
    "            elif((dist >= 13*stepDist)and (dist < 14*stepDist)):\n",
    "                #bin14\n",
    "                f = devMatrix[i][j]\n",
    "                bin14.append((dist,f))\n",
    "            elif((dist >= 14*stepDist)and (dist < 15*stepDist)):\n",
    "                #bin15\n",
    "                f = devMatrix[i][j]\n",
    "                bin15.append((dist,f))\n",
    "            elif((dist >= 15*stepDist)and (dist < 16*stepDist)):\n",
    "                #bin16\n",
    "                f = devMatrix[i][j]\n",
    "                bin16.append((dist,f))\n",
    "            elif((dist >= 16*stepDist)and (dist < 17*stepDist)):\n",
    "                #bin17\n",
    "                f = devMatrix[i][j]\n",
    "                bin17.append((dist,f))\n",
    "            elif((dist >= 17*stepDist)and (dist < 18*stepDist)):\n",
    "                #bin18\n",
    "                f = devMatrix[i][j]\n",
    "                bin18.append((dist,f))\n",
    "            elif((dist >= 18*stepDist)and (dist < 19*stepDist)):\n",
    "                #bin19\n",
    "                f = devMatrix[i][j]\n",
    "                bin19.append((dist,f))\n",
    "            elif((dist >= 19*stepDist)and (dist <= maxDist)):\n",
    "                #bin20\n",
    "                f = devMatrix[i][j]\n",
    "                bin20.append((dist,f))\n",
    "            else:\n",
    "                print('rip')\n",
    "            \n",
    "    #binArr\n",
    "    binArr = [bin1,bin2,bin3,bin4,bin5,bin6,bin7,bin8,bin9,bin10,bin11,bin12,bin13,bin14,bin15,bin16,bin17,bin18,bin19,bin20]\n",
    "    return binArr\n",
    "binArr_f1 = binFunct(devMatrix_f1)\n",
    "binArr_f2 = binFunct(devMatrix_f2)\n",
    "binArr_f3 = binFunct(devMatrix_f3)\n",
    "binArr_f4 = binFunct(devMatrix_f4)\n",
    "#print(binArr_f1[0])"
   ]
  },
  {
   "cell_type": "markdown",
   "metadata": {},
   "source": [
    "##### c) Create local averages\n",
    "\n",
    "For each of the (hundreds!) of points within each bin, take the mean value of the $(f(x)-f(y))^2))$ deviations in that bin.\n",
    "\n",
    "You should have a list of 20 average values.\n"
   ]
  },
  {
   "cell_type": "code",
   "execution_count": 8,
   "metadata": {},
   "outputs": [],
   "source": [
    "def grabDeviations(binArr):\n",
    "    devArr =[]\n",
    "    for i in range(len(binArr)):\n",
    "        devArr.append(binArr[i][1])\n",
    "    return devArr\n",
    "    #return list of deviations"
   ]
  },
  {
   "cell_type": "code",
   "execution_count": 9,
   "metadata": {},
   "outputs": [
    {
     "name": "stdout",
     "output_type": "stream",
     "text": [
      "Average Deviation Array of f1: \n",
      "[12.010007220126159, 12.25625702450198, 12.106887949288874, 11.672295482401985, 10.966071374253625, 10.181929526638433, 9.751883176040554, 9.475437357004381, 9.679946588954216, 10.032836683856331, 9.795322539657457, 9.643640080702543, 8.923556821240549, 8.070239666259317, 7.358678320860766, 7.020749817289536, 6.5452687379625045, 5.31408039910049, 3.658130112436254, 1.5074870959949624]\n",
      "Average Deviation Array of f2: \n",
      "[2.077292819985537, 2.0286635188730124, 1.9787886645084585, 1.9421765036670242, 1.9212026764885368, 1.9419549061771464, 1.9753822113766888, 2.0051226673340645, 2.0471276645194103, 2.0440810458290906, 2.025517775519312, 1.9459029002866222, 1.8322414995232656, 1.7461385267044824, 1.6552579194144896, 1.618904736667421, 1.5604560151501734, 1.4450765886669523, 1.2991891132554436, 1.056996163287164]\n",
      "Average Deviation Array of f3: \n",
      "[12.56489383055361, 12.407664017191243, 12.386152818835457, 11.791107995923774, 11.043753213517094, 10.33241631389294, 10.023393967577897, 9.765703692082528, 10.233802659494636, 10.484091847689617, 10.226912980236262, 9.705779906241466, 8.922378066506385, 8.00570448466288, 7.271303414159066, 6.929867412632213, 6.262214273600276, 4.815766888210664, 2.997196313978579, 0.8966409820119208]\n",
      "Average Deviation Array of f4: \n",
      "[3.883296647527496, 3.882615139051889, 3.829569776553915, 4.329010859638612, 4.292154511585515, 4.354623724758055, 3.9471746462816957, 3.7998818450535716, 4.0790297836602285, 4.023270111538131, 3.916983393335542, 3.8718411021106127, 3.4362031286808725, 3.1473369830654097, 2.9424191863897313, 3.1929034628236574, 2.515259339121505, 2.641627644899178, 2.4527108033813843, 1.9451111565467285]\n"
     ]
    }
   ],
   "source": [
    "def getDevArr(binArr,name):\n",
    "    avgDevArr =[]\n",
    "    for i in range(len(binArr)):\n",
    "        #if(i ==0):\n",
    "        #for a single bin we need one point returned of averaged deviations\n",
    "        bin_Single = binArr[i]\n",
    "            #print(bin_Single)\n",
    "            #print(\"...\")\n",
    "        devArr = grabDeviations(bin_Single)\n",
    "        devArr_Mean = np.mean(devArr)\n",
    "        avgDevArr.append(devArr_Mean)\n",
    "    print(\"Average Deviation Array of \"+str(name)+\": \")\n",
    "    print(avgDevArr)\n",
    "    return avgDevArr\n",
    "#relabeling\n",
    "newY_f1 = getDevArr(binArr_f1,\"f1\")\n",
    "newY_f2 = getDevArr(binArr_f2,\"f2\")\n",
    "newY_f3 = getDevArr(binArr_f3,\"f3\")\n",
    "newY_f4 = getDevArr(binArr_f4,\"f4\")\n",
    "#getDevArr(binArr_f1)"
   ]
  },
  {
   "cell_type": "markdown",
   "metadata": {},
   "source": [
    "I saw this in markdown, was not sure if I should write anything. But here is what I did in part c. Which is I have now cycle through my bin matrix to find the output deviations and average them. Above is the output arrays. "
   ]
  },
  {
   "cell_type": "markdown",
   "metadata": {},
   "source": [
    "##### d) Create variograms\n",
    "\n",
    "A variogram is a line plot with the center of each bin (the bins in part b) on the $x$-axis and the average squared deviation of points within that bin (found in part c) on the $y$-axis.\n",
    "\n",
    "In the same 2x2 structure as the given code at the start of the problem, plot the 4 variograms for $F1, F2, F3,$ and $F4).\n"
   ]
  },
  {
   "cell_type": "code",
   "execution_count": 20,
   "metadata": {},
   "outputs": [
    {
     "name": "stdout",
     "output_type": "stream",
     "text": [
      "These are new x values based on center of bins:\n",
      "[0, 0.10606601717798213, 0.17677669529663687, 0.24748737341529164, 0.31819805153394637, 0.38890872965260115, 0.4596194077712559, 0.5303300858899107, 0.6010407640085653, 0.6717514421272202, 0.7424621202458749, 0.8131727983645296, 0.8838834764831844, 0.9545941546018392, 1.0253048327204939, 1.0960155108391487, 1.1667261889578033, 1.2374368670764582, 1.308147545195113, 1.3788582233137676]\n"
     ]
    }
   ],
   "source": [
    "#print(stepDist)\n",
    "#print(maxDist)\n",
    "newX=[]\n",
    "newX.append(0)\n",
    "for i in range(1,20):\n",
    "    lowBound = i*stepDist\n",
    "    upperBound = (i+1)*stepDist\n",
    "    #print(\"low: \"+str(lowBound))\n",
    "    #print(\"high: \"+str(upperBound))\n",
    "    center = (lowBound+upperBound)/2\n",
    "    newX.append(center)\n",
    "#print(len(newX))\n",
    "print(\"These are new x values based on center of bins:\")\n",
    "print(newX)\n"
   ]
  },
  {
   "cell_type": "code",
   "execution_count": 21,
   "metadata": {},
   "outputs": [
    {
     "data": {
      "text/plain": [
       "Text(0.5, 1.0, 'Function 4: 2 plus normals')"
      ]
     },
     "execution_count": 21,
     "metadata": {},
     "output_type": "execute_result"
    },
    {
     "data": {
      "image/png": "[encoded data removed]",
      "text/plain": [
       "<Figure size 1080x720 with 4 Axes>"
      ]
     },
     "metadata": {
      "needs_background": "light"
     },
     "output_type": "display_data"
    }
   ],
   "source": [
    "fig, axs = plt.subplots(2, 2,figsize=(15,10))\n",
    "axs[0,0].plot(newX, newY_f1, 'bo')\n",
    "#sns.heatmap(Z1_new, ax=axs[0,0])\n",
    "axs[0,0].set_title('Function 1: long period')\n",
    "#sns.heatmap(Z2_new, ax=axs[0,1])\n",
    "axs[0,1].plot(newX, newY_f2, 'bo')\n",
    "axs[0,1].set_title('Function 2: shorter period')\n",
    "#sns.heatmap(Z3_new, ax=axs[1,0])\n",
    "axs[1,0].plot(newX, newY_f3, 'bo')\n",
    "axs[1,0].set_title('Function 3: 1 plus uniforms')\n",
    "#sns.heatmap(Z4_new, ax=axs[1,1])\n",
    "axs[1,1].plot(newX, newY_f4, 'bo')\n",
    "axs[1,1].set_title('Function 4: 2 plus normals')"
   ]
  },
  {
   "cell_type": "markdown",
   "metadata": {},
   "source": [
    "##### e) Interpret the variograms.  What do different values or features on the variograms appear to correspond to in terms of the shapes of the functions and added randomness of the 4 data sets?\n"
   ]
  },
  {
   "cell_type": "markdown",
   "metadata": {},
   "source": [
    "Well first we take the presumption my code produced valid variograms(Idk if these are right?). But, lets examine them anyway. \n",
    "\n",
    "I would start by saying function 1 and function 2 have no form of randomness introduced. Lets examine Function 1 vs Function 3 as function 3 is f1 with uniforms added for randomness. Note that I believe that each point from f1 was tweaked buy the addition of the uniform as such it is shown through the avg. squared deviation to be either a little above or below its original avg. squared deviation.Lets look at when $x \\approx .1$ which represent which range of distances that average squared deviation corresponds to (y). If we note, that for f3 the corresponding is below the mark 12, as in f1 the corresponding y is at 12. In general sense, the addition of uniform randomness changed the function minimally and did not seem well to add randomness keeping the curve somewhat the same. As for Function 2 and Function 4, I think the addition of 2 normals really randomized the data well. However, the overall picture of what function 2 used to be is still guessable from function 4. \n",
    "\n",
    "The last part I would want to mention is that all 4 functions seem have the x(avg of bin #'s range) and the y(functions output of the avg squarded deviations) inversely be porportional.(could be from error?)"
   ]
  },
  {
   "cell_type": "markdown",
   "metadata": {},
   "source": [
    "## Problem 3 (Hypothesis Simulation; 15 points)\n"
   ]
  },
  {
   "cell_type": "markdown",
   "metadata": {},
   "source": [
    "One question we will often be tasked with in the semester is asking what \"random\" looks like.  In hypothesis testing, we typically ask \"what is the probability of observing *this* test statistic if everything is fair/random.\"  We can then do so for a variety of test statistics (`Z`, `T`, proportions, sample variances, etc.) to draw conclusions like \"That doesn't look random!  It's extremely unlikely to happen under the **null hypothesis**, so we reject that hypothesis.\"\n",
    "\n",
    "As we develop new tools this semester, simulation can help us determine what our tools do if everything is random, which helps provide context to the answers we get on real data - which ideally includes a real signal in it that we want to discover."
   ]
  },
  {
   "cell_type": "markdown",
   "metadata": {},
   "source": [
    "### How correlated is really correlated?\n",
    "\n",
    "The code below simulates from the bivariate normal distribution, which we'll use later this semester.  In brief, it simulates a list of points (called `rnorms` below) as an $j \\times 2$ array where each of the `j` rows is an $(x,y)$ point.  We can either simulate these two column vectors $X$ and $Y$ so they're actually independent and the true correlation coefficient $\\rho_{xy}=0$ OR we can simulate them with actual correlations included.\n",
    "\n",
    "We want to know how much correlation is required for us to be able to meaningfully detect it.  Note that our simulated \"*sample*\" correlation coefficients never actually match the true value!\n",
    "\n",
    "Example code:"
   ]
  },
  {
   "cell_type": "code",
   "execution_count": 12,
   "metadata": {},
   "outputs": [
    {
     "name": "stdout",
     "output_type": "stream",
     "text": [
      "Blue correlation coefficient: [[1.         0.06579047]\n",
      " [0.06579047 1.        ]]\n",
      "Red correlation coefficient: [[1.         0.78755174]\n",
      " [0.78755174 1.        ]]\n"
     ]
    },
    {
     "data": {
      "text/plain": [
       "<matplotlib.collections.PathCollection at 0x19624ec4c48>"
      ]
     },
     "execution_count": 12,
     "metadata": {},
     "output_type": "execute_result"
    },
    {
     "data": {
      "image/png": "[encoded data removed]",
      "text/plain": [
       "<Figure size 432x288 with 1 Axes>"
      ]
     },
     "metadata": {
      "needs_background": "light"
     },
     "output_type": "display_data"
    }
   ],
   "source": [
    "rho=0\n",
    "rnorms=np.random.multivariate_normal([0,0], [[1,rho],[rho,1]],50)  #sample of size j=50 indepenent N(0,1)\n",
    "print('Blue correlation coefficient:', np.corrcoef(rnorms[:,0],y=rnorms[:,1]))\n",
    "plt.scatter(rnorms[:,0],y=rnorms[:,1]) #sanity check... do they look uncorrelated?\n",
    "\n",
    "\n",
    "rho=.8\n",
    "rnorms=np.random.multivariate_normal([0,0], [[1,rho],[rho,1]],50)  #sample of size j=50 rho=.8 N(0,1)\n",
    "print('Red correlation coefficient:', np.corrcoef(rnorms[:,0],y=rnorms[:,1]))\n",
    "plt.scatter(rnorms[:,0],y=rnorms[:,1]) #sanity check... do they look correlated?\n"
   ]
  },
  {
   "cell_type": "markdown",
   "metadata": {},
   "source": [
    "##### a) Our goal is to understand at what point we can actually tell whether or not things are correlated. To this end, let the example code above guide you to code that allows you to:\n",
    "\n",
    " - i) Generate a sample of `j=10` bivariate normals (of mean 0, variance 1) that are uncorrelated.  Calculate the correlation of this sample.\n",
    " - ii) Repeat step `i` 1000 times.  Save all 1000 correlation coefficients.\n",
    " - iii) Repeat steps `i` and `ii` for `j=100` and `j=1000`.  We now have 3000 correlation coefficients across 3 values of `j`.\n",
    " \n"
   ]
  },
  {
   "cell_type": "code",
   "execution_count": 13,
   "metadata": {},
   "outputs": [],
   "source": [
    "\n",
    "\n",
    "def simMulti(j,rho):\n",
    "    correlationArray =[]\n",
    "    for i in range(1000):\n",
    "        \n",
    "        #i)\n",
    "        rho=rho\n",
    "        rnorms=np.random.multivariate_normal([0,0], [[1,rho],[rho,1]],j)  #sample of size j=j indepenent N(0,1)\n",
    "        corr_samp =np.corrcoef(rnorms[:,0],y=rnorms[:,1])\n",
    "        correlationArray.append(np.abs(corr_samp[0][1])) #np.abs(corr_samp[0][1])\n",
    "        #print(corr_samp)\n",
    "    return correlationArray\n",
    "ccJ10 = simMulti(10,0)\n",
    "ccJ100 = simMulti(100,0)\n",
    "ccJ1000 = simMulti(1000,0)\n",
    "#print(ccJ1000)"
   ]
  },
  {
   "cell_type": "markdown",
   "metadata": {},
   "source": [
    "Consider testing the null hypothesis:\n",
    "  - $H_0:$ These samples are uncorrelated\n",
    "  \n",
    "  against the alternative\n",
    "  \n",
    "  - $H_a:$ These samples have $\\rho_{xy} \\ne 0$.\n",
    "  \n",
    "#### b) At what sample correlations do we reject the null hypothesis if we set a probability of Type I error equal to .05?\n",
    "\n",
    "This defines the *rejection region* for a statistical test of whether correlation is nonzero!"
   ]
  },
  {
   "cell_type": "code",
   "execution_count": 14,
   "metadata": {},
   "outputs": [
    {
     "name": "stdout",
     "output_type": "stream",
     "text": [
      "For j=10 the rejection region is... \n",
      "correlation Value < 0.01193463363203079 or correlation Value > 0.7127857658275577\n",
      "Sanity Check: The next output is to check if we have the right rejectiong region error percentage should equal the alpha value.\n",
      "Type I error simulated: 0.05\n",
      "_________________________________________________________________________________\n",
      "For j=100 the rejection region is... \n",
      "correlation Value < 0.002581427955523611 or correlation Value > 0.224211003025855\n",
      "Sanity Check: The next output is to check if we have the right rejectiong region error percentage should equal the alpha value.\n",
      "Type I error simulated: 0.05\n",
      "_________________________________________________________________________________\n",
      "For j=1000 the rejection region is... \n",
      "correlation Value < 0.0010229801367149364 or correlation Value > 0.06954319697709971\n",
      "Sanity Check: The next output is to check if we have the right rejectiong region error percentage should equal the alpha value.\n",
      "Type I error simulated: 0.05\n",
      "_________________________________________________________________________________\n"
     ]
    }
   ],
   "source": [
    "def testSim(trialValue_low,trialValue_high,arr):\n",
    "    count=0\n",
    "    for i in range(len(arr)):\n",
    "        if((arr[i] > trialValue_high) or (arr[i] < trialValue_low)):\n",
    "            #print(arr[i])\n",
    "            count+=1\n",
    "    simulatedPercent = count/len(arr)\n",
    "    print(\"Sanity Check: The next output is to check if we have the right rejectiong region error percentage should equal the alpha value.\")\n",
    "    print(\"Type I error simulated: \" +str(simulatedPercent))\n",
    "\n",
    "#using np percentile functions we can approximate\n",
    "def formatJ(arr,j):\n",
    "    print(\"For j=\"+str(j)+\" the rejection region is... \")\n",
    "    low_025 = np.percentile(arr,2.5)\n",
    "    high_025 = np.percentile(arr,97.5)\n",
    "    #print(\"(   \" + str(low_025) + \" , \" +str(high_025)+ \" )\")\n",
    "    #print(high_025)\n",
    "    #print(\"In other words we will reject if: \")\n",
    "    print(\"correlation Value < \" +str(low_025) + \" or correlation Value > \"+str(high_025))\n",
    "    \n",
    "    testSim(low_025,high_025,arr)\n",
    "    print(\"_________________________________________________________________________________\")\n",
    "    return (low_025,high_025)\n",
    "region10 = formatJ(ccJ10,10)\n",
    "region100 = formatJ(ccJ100,100)\n",
    "region1000= formatJ(ccJ1000,1000)"
   ]
  },
  {
   "cell_type": "markdown",
   "metadata": {},
   "source": [
    "As above each j has it own rejection regions based on max and min extreme values. I use the np.percentile to find bottom and top .025 % to use as rejection regions."
   ]
  },
  {
   "cell_type": "markdown",
   "metadata": {},
   "source": [
    "#### c) Use additional simulations as in part a) to determine the power of our test in b) when `j=10`, `j=100`, and `j=1000` if the true correlation coefficient is $\\rho=.1$.\n",
    "\n",
    "Recall: power is defined as the probability of rejecting the null hypothesis - or being in the rejection region from part b) - when the true correlation was nonzero.  "
   ]
  },
  {
   "cell_type": "code",
   "execution_count": 15,
   "metadata": {},
   "outputs": [
    {
     "name": "stdout",
     "output_type": "stream",
     "text": [
      "For j= 10 the power is calculated using previous rejection regions...\n",
      "The power for our test is 0.055\n",
      "___________________________________________________\n",
      "For j= 100 the power is calculated using previous rejection regions...\n",
      "The power for our test is 0.124\n",
      "___________________________________________________\n",
      "For j= 1000 the power is calculated using previous rejection regions...\n",
      "The power for our test is 0.825\n",
      "___________________________________________________\n"
     ]
    },
    {
     "data": {
      "text/plain": [
       "0.825"
      ]
     },
     "execution_count": 15,
     "metadata": {},
     "output_type": "execute_result"
    }
   ],
   "source": [
    "ccJ10_1 = simMulti(10,.1)\n",
    "ccJ100_1 = simMulti(100,.1)\n",
    "ccJ1000_1 = simMulti(1000,.1)\n",
    "#print(region10)\n",
    "def probOfRejection(arr,bounds,j):\n",
    "    count=0\n",
    "    for i in range(len(arr)):\n",
    "        if((arr[i] > bounds[1]) or (arr[i] < bounds[0])):\n",
    "            #print(arr[i])\n",
    "            count+=1\n",
    "    simulatedPercent = count/len(arr)\n",
    "    print(\"For j= \"+str(j)+\" the power is calculated using previous rejection regions...\")\n",
    "    print(\"The power for our test is \"+str(simulatedPercent))\n",
    "    print(\"___________________________________________________\")\n",
    "    return simulatedPercent\n",
    "probOfRejection(ccJ10_1,region10,10)\n",
    "probOfRejection(ccJ100_1,region100,100)\n",
    "probOfRejection(ccJ1000_1,region1000,1000)\n",
    "#side note we will use previously calculate rejection regions from part b) for each subsequent j value\n"
   ]
  },
  {
   "cell_type": "markdown",
   "metadata": {},
   "source": [
    "It is good to note that this makes sense that as j (sample size) of each bivariate increases the power of the test increases as well."
   ]
  },
  {
   "cell_type": "markdown",
   "metadata": {},
   "source": [
    "#### d) Use additional simulations as in part a) to determine the power of our test in b) when `j=10`, `j=100`, and `j=1000` if the true correlation coefficient is $\\rho=-.1$.  Should this differ from part c)?"
   ]
  },
  {
   "cell_type": "code",
   "execution_count": 16,
   "metadata": {},
   "outputs": [
    {
     "name": "stdout",
     "output_type": "stream",
     "text": [
      "For j= 10 the power is calculated using previous rejection regions...\n",
      "The power for our test is 0.058\n",
      "___________________________________________________\n",
      "For j= 100 the power is calculated using previous rejection regions...\n",
      "The power for our test is 0.114\n",
      "___________________________________________________\n",
      "For j= 1000 the power is calculated using previous rejection regions...\n",
      "The power for our test is 0.827\n",
      "___________________________________________________\n"
     ]
    },
    {
     "data": {
      "text/plain": [
       "0.827"
      ]
     },
     "execution_count": 16,
     "metadata": {},
     "output_type": "execute_result"
    }
   ],
   "source": [
    "ccJ10_1_neg = simMulti(10,-.1)\n",
    "ccJ100_1_neg = simMulti(100,-.1)\n",
    "ccJ1000_1_neg = simMulti(1000,-.1)\n",
    "\n",
    "probOfRejection(ccJ10_1_neg,region10,10)\n",
    "probOfRejection(ccJ100_1_neg,region100,100)\n",
    "probOfRejection(ccJ1000_1_neg,region1000,1000)"
   ]
  },
  {
   "cell_type": "markdown",
   "metadata": {},
   "source": [
    "I don't not believe it should be different and if so minimally. As we know correlation is symetric so I would expect it yield similar results."
   ]
  }
 ],
 "metadata": {
  "kernelspec": {
   "display_name": "Python 3",
   "language": "python",
   "name": "python3"
  },
  "language_info": {
   "codemirror_mode": {
    "name": "ipython",
    "version": 3
   },
   "file_extension": ".py",
   "mimetype": "text/x-python",
   "name": "python",
   "nbconvert_exporter": "python",
   "pygments_lexer": "ipython3",
   "version": "3.7.4"
  }
 },
 "nbformat": 4,
 "nbformat_minor": 2
}
